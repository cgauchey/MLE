{
 "cells": [
  {
   "cell_type": "code",
   "execution_count": 5,
   "metadata": {},
   "outputs": [],
   "source": [
    "#@title Importing modules\n",
    "import pandas as pd\n",
    "from sklearn.cluster import KMeans\n",
    "import altair as alt\n",
    "import numpy as np"
   ]
  },
  {
   "cell_type": "code",
   "execution_count": 6,
   "metadata": {},
   "outputs": [],
   "source": [
    "#@title link to dataset\n",
    "file_url = 'https://raw.githubusercontent.com/fenago/DSBook/main/Chapter%205/Mall_Customers.csv'"
   ]
  },
  {
   "cell_type": "code",
   "execution_count": 7,
   "metadata": {},
   "outputs": [],
   "source": [
    "#@title LOading dataset\n",
    "data = pd.read_csv(file_url, \\\n",
    "                 usecols=['Age', \\\n",
    "                          'Annual Income (k$)', \\\n",
    "'Spending Score (1-100)'])"
   ]
  },
  {
   "cell_type": "code",
   "execution_count": 8,
   "metadata": {},
   "outputs": [],
   "source": [
    "#@title Assigning the columns to a new variable\n",
    "X = data[['Age', \\\n",
    "        'Annual Income (k$)']]"
   ]
  },
  {
   "cell_type": "code",
   "execution_count": 13,
   "metadata": {},
   "outputs": [
    {
     "data": {
      "text/plain": [
       "KMeans(init='random', n_clusters=4, n_init=1, random_state=1)"
      ]
     },
     "execution_count": 13,
     "metadata": {},
     "output_type": "execute_result"
    }
   ],
   "source": [
    "#@title Fit a k-means model with n_init equal to 1 and a random init\n",
    "kmeans = KMeans(random_state=1, n_clusters=4, \\\n",
    "                init='random', n_init=1)\n",
    "kmeans.fit(X)"
   ]
  },
  {
   "cell_type": "code",
   "execution_count": 14,
   "metadata": {},
   "outputs": [],
   "source": [
    "#@title Using the predict method from the sklearn package, predict the clustering assignment from the input variable, (X)\n",
    "data['cluster3'] = kmeans.predict(X)"
   ]
  },
  {
   "cell_type": "code",
   "execution_count": 16,
   "metadata": {},
   "outputs": [
    {
     "data": {
      "text/html": [
       "\n",
       "<div id=\"altair-viz-8e9a5d149e7047469258383219742dd8\"></div>\n",
       "<script type=\"text/javascript\">\n",
       "  var VEGA_DEBUG = (typeof VEGA_DEBUG == \"undefined\") ? {} : VEGA_DEBUG;\n",
       "  (function(spec, embedOpt){\n",
       "    let outputDiv = document.currentScript.previousElementSibling;\n",
       "    if (outputDiv.id !== \"altair-viz-8e9a5d149e7047469258383219742dd8\") {\n",
       "      outputDiv = document.getElementById(\"altair-viz-8e9a5d149e7047469258383219742dd8\");\n",
       "    }\n",
       "    const paths = {\n",
       "      \"vega\": \"https://cdn.jsdelivr.net/npm//vega@5?noext\",\n",
       "      \"vega-lib\": \"https://cdn.jsdelivr.net/npm//vega-lib?noext\",\n",
       "      \"vega-lite\": \"https://cdn.jsdelivr.net/npm//vega-lite@4.17.0?noext\",\n",
       "      \"vega-embed\": \"https://cdn.jsdelivr.net/npm//vega-embed@6?noext\",\n",
       "    };\n",
       "\n",
       "    function maybeLoadScript(lib, version) {\n",
       "      var key = `${lib.replace(\"-\", \"\")}_version`;\n",
       "      return (VEGA_DEBUG[key] == version) ?\n",
       "        Promise.resolve(paths[lib]) :\n",
       "        new Promise(function(resolve, reject) {\n",
       "          var s = document.createElement('script');\n",
       "          document.getElementsByTagName(\"head\")[0].appendChild(s);\n",
       "          s.async = true;\n",
       "          s.onload = () => {\n",
       "            VEGA_DEBUG[key] = version;\n",
       "            return resolve(paths[lib]);\n",
       "          };\n",
       "          s.onerror = () => reject(`Error loading script: ${paths[lib]}`);\n",
       "          s.src = paths[lib];\n",
       "        });\n",
       "    }\n",
       "\n",
       "    function showError(err) {\n",
       "      outputDiv.innerHTML = `<div class=\"error\" style=\"color:red;\">${err}</div>`;\n",
       "      throw err;\n",
       "    }\n",
       "\n",
       "    function displayChart(vegaEmbed) {\n",
       "      vegaEmbed(outputDiv, spec, embedOpt)\n",
       "        .catch(err => showError(`Javascript Error: ${err.message}<br>This usually means there's a typo in your chart specification. See the javascript console for the full traceback.`));\n",
       "    }\n",
       "\n",
       "    if(typeof define === \"function\" && define.amd) {\n",
       "      requirejs.config({paths});\n",
       "      require([\"vega-embed\"], displayChart, err => showError(`Error loading script: ${err.message}`));\n",
       "    } else {\n",
       "      maybeLoadScript(\"vega\", \"5\")\n",
       "        .then(() => maybeLoadScript(\"vega-lite\", \"4.17.0\"))\n",
       "        .then(() => maybeLoadScript(\"vega-embed\", \"6\"))\n",
       "        .catch(showError)\n",
       "        .then(() => displayChart(vegaEmbed));\n",
       "    }\n",
       "  })({\"config\": {\"view\": {\"continuousWidth\": 400, \"continuousHeight\": 300}}, \"data\": {\"name\": \"data-1392565d8a64843c93fe239393746e34\"}, \"mark\": \"circle\", \"encoding\": {\"color\": {\"field\": \"cluster5\", \"type\": \"nominal\"}, \"tooltip\": [{\"field\": \"Spending Score (1-100)\", \"type\": \"quantitative\"}, {\"field\": \"cluster5\", \"type\": \"quantitative\"}, {\"field\": \"Age\", \"type\": \"quantitative\"}, {\"field\": \"Annual Income (k$)\", \"type\": \"quantitative\"}], \"x\": {\"field\": \"Age\", \"type\": \"quantitative\"}, \"y\": {\"field\": \"Annual Income (k$)\", \"type\": \"quantitative\"}}, \"selection\": {\"selector001\": {\"type\": \"interval\", \"bind\": \"scales\", \"encodings\": [\"x\", \"y\"]}}, \"$schema\": \"https://vega.github.io/schema/vega-lite/v4.17.0.json\", \"datasets\": {\"data-1392565d8a64843c93fe239393746e34\": [{\"Age\": 19, \"Annual Income (k$)\": 15, \"Spending Score (1-100)\": 39, \"cluster3\": 3, \"cluster5\": 0}, {\"Age\": 21, \"Annual Income (k$)\": 15, \"Spending Score (1-100)\": 81, \"cluster3\": 3, \"cluster5\": 0}, {\"Age\": 20, \"Annual Income (k$)\": 16, \"Spending Score (1-100)\": 6, \"cluster3\": 3, \"cluster5\": 0}, {\"Age\": 23, \"Annual Income (k$)\": 16, \"Spending Score (1-100)\": 77, \"cluster3\": 3, \"cluster5\": 0}, {\"Age\": 31, \"Annual Income (k$)\": 17, \"Spending Score (1-100)\": 40, \"cluster3\": 3, \"cluster5\": 0}, {\"Age\": 22, \"Annual Income (k$)\": 17, \"Spending Score (1-100)\": 76, \"cluster3\": 3, \"cluster5\": 0}, {\"Age\": 35, \"Annual Income (k$)\": 18, \"Spending Score (1-100)\": 6, \"cluster3\": 3, \"cluster5\": 0}, {\"Age\": 23, \"Annual Income (k$)\": 18, \"Spending Score (1-100)\": 94, \"cluster3\": 3, \"cluster5\": 0}, {\"Age\": 64, \"Annual Income (k$)\": 19, \"Spending Score (1-100)\": 3, \"cluster3\": 2, \"cluster5\": 1}, {\"Age\": 30, \"Annual Income (k$)\": 19, \"Spending Score (1-100)\": 72, \"cluster3\": 3, \"cluster5\": 0}, {\"Age\": 67, \"Annual Income (k$)\": 19, \"Spending Score (1-100)\": 14, \"cluster3\": 2, \"cluster5\": 1}, {\"Age\": 35, \"Annual Income (k$)\": 19, \"Spending Score (1-100)\": 99, \"cluster3\": 3, \"cluster5\": 0}, {\"Age\": 58, \"Annual Income (k$)\": 20, \"Spending Score (1-100)\": 15, \"cluster3\": 2, \"cluster5\": 0}, {\"Age\": 24, \"Annual Income (k$)\": 20, \"Spending Score (1-100)\": 77, \"cluster3\": 3, \"cluster5\": 0}, {\"Age\": 37, \"Annual Income (k$)\": 20, \"Spending Score (1-100)\": 13, \"cluster3\": 3, \"cluster5\": 0}, {\"Age\": 22, \"Annual Income (k$)\": 20, \"Spending Score (1-100)\": 79, \"cluster3\": 3, \"cluster5\": 0}, {\"Age\": 35, \"Annual Income (k$)\": 21, \"Spending Score (1-100)\": 35, \"cluster3\": 3, \"cluster5\": 0}, {\"Age\": 20, \"Annual Income (k$)\": 21, \"Spending Score (1-100)\": 66, \"cluster3\": 3, \"cluster5\": 0}, {\"Age\": 52, \"Annual Income (k$)\": 23, \"Spending Score (1-100)\": 29, \"cluster3\": 3, \"cluster5\": 0}, {\"Age\": 35, \"Annual Income (k$)\": 23, \"Spending Score (1-100)\": 98, \"cluster3\": 3, \"cluster5\": 0}, {\"Age\": 35, \"Annual Income (k$)\": 24, \"Spending Score (1-100)\": 35, \"cluster3\": 3, \"cluster5\": 0}, {\"Age\": 25, \"Annual Income (k$)\": 24, \"Spending Score (1-100)\": 73, \"cluster3\": 3, \"cluster5\": 0}, {\"Age\": 46, \"Annual Income (k$)\": 25, \"Spending Score (1-100)\": 5, \"cluster3\": 3, \"cluster5\": 0}, {\"Age\": 31, \"Annual Income (k$)\": 25, \"Spending Score (1-100)\": 73, \"cluster3\": 3, \"cluster5\": 0}, {\"Age\": 54, \"Annual Income (k$)\": 28, \"Spending Score (1-100)\": 14, \"cluster3\": 2, \"cluster5\": 0}, {\"Age\": 29, \"Annual Income (k$)\": 28, \"Spending Score (1-100)\": 82, \"cluster3\": 3, \"cluster5\": 0}, {\"Age\": 45, \"Annual Income (k$)\": 28, \"Spending Score (1-100)\": 32, \"cluster3\": 3, \"cluster5\": 0}, {\"Age\": 35, \"Annual Income (k$)\": 28, \"Spending Score (1-100)\": 61, \"cluster3\": 3, \"cluster5\": 0}, {\"Age\": 40, \"Annual Income (k$)\": 29, \"Spending Score (1-100)\": 31, \"cluster3\": 3, \"cluster5\": 0}, {\"Age\": 23, \"Annual Income (k$)\": 29, \"Spending Score (1-100)\": 87, \"cluster3\": 3, \"cluster5\": 0}, {\"Age\": 60, \"Annual Income (k$)\": 30, \"Spending Score (1-100)\": 4, \"cluster3\": 2, \"cluster5\": 1}, {\"Age\": 21, \"Annual Income (k$)\": 30, \"Spending Score (1-100)\": 73, \"cluster3\": 3, \"cluster5\": 0}, {\"Age\": 53, \"Annual Income (k$)\": 33, \"Spending Score (1-100)\": 4, \"cluster3\": 2, \"cluster5\": 1}, {\"Age\": 18, \"Annual Income (k$)\": 33, \"Spending Score (1-100)\": 92, \"cluster3\": 3, \"cluster5\": 0}, {\"Age\": 49, \"Annual Income (k$)\": 33, \"Spending Score (1-100)\": 14, \"cluster3\": 2, \"cluster5\": 0}, {\"Age\": 21, \"Annual Income (k$)\": 33, \"Spending Score (1-100)\": 81, \"cluster3\": 3, \"cluster5\": 0}, {\"Age\": 42, \"Annual Income (k$)\": 34, \"Spending Score (1-100)\": 17, \"cluster3\": 3, \"cluster5\": 0}, {\"Age\": 30, \"Annual Income (k$)\": 34, \"Spending Score (1-100)\": 73, \"cluster3\": 3, \"cluster5\": 0}, {\"Age\": 36, \"Annual Income (k$)\": 37, \"Spending Score (1-100)\": 26, \"cluster3\": 3, \"cluster5\": 0}, {\"Age\": 20, \"Annual Income (k$)\": 37, \"Spending Score (1-100)\": 75, \"cluster3\": 3, \"cluster5\": 0}, {\"Age\": 65, \"Annual Income (k$)\": 38, \"Spending Score (1-100)\": 35, \"cluster3\": 2, \"cluster5\": 1}, {\"Age\": 24, \"Annual Income (k$)\": 38, \"Spending Score (1-100)\": 92, \"cluster3\": 3, \"cluster5\": 0}, {\"Age\": 48, \"Annual Income (k$)\": 39, \"Spending Score (1-100)\": 36, \"cluster3\": 2, \"cluster5\": 1}, {\"Age\": 31, \"Annual Income (k$)\": 39, \"Spending Score (1-100)\": 61, \"cluster3\": 3, \"cluster5\": 0}, {\"Age\": 49, \"Annual Income (k$)\": 39, \"Spending Score (1-100)\": 28, \"cluster3\": 2, \"cluster5\": 1}, {\"Age\": 24, \"Annual Income (k$)\": 39, \"Spending Score (1-100)\": 65, \"cluster3\": 3, \"cluster5\": 0}, {\"Age\": 50, \"Annual Income (k$)\": 40, \"Spending Score (1-100)\": 55, \"cluster3\": 2, \"cluster5\": 1}, {\"Age\": 27, \"Annual Income (k$)\": 40, \"Spending Score (1-100)\": 47, \"cluster3\": 3, \"cluster5\": 0}, {\"Age\": 29, \"Annual Income (k$)\": 40, \"Spending Score (1-100)\": 42, \"cluster3\": 3, \"cluster5\": 0}, {\"Age\": 31, \"Annual Income (k$)\": 40, \"Spending Score (1-100)\": 42, \"cluster3\": 3, \"cluster5\": 0}, {\"Age\": 49, \"Annual Income (k$)\": 42, \"Spending Score (1-100)\": 52, \"cluster3\": 2, \"cluster5\": 1}, {\"Age\": 33, \"Annual Income (k$)\": 42, \"Spending Score (1-100)\": 60, \"cluster3\": 3, \"cluster5\": 0}, {\"Age\": 31, \"Annual Income (k$)\": 43, \"Spending Score (1-100)\": 54, \"cluster3\": 3, \"cluster5\": 0}, {\"Age\": 59, \"Annual Income (k$)\": 43, \"Spending Score (1-100)\": 60, \"cluster3\": 2, \"cluster5\": 1}, {\"Age\": 50, \"Annual Income (k$)\": 43, \"Spending Score (1-100)\": 45, \"cluster3\": 2, \"cluster5\": 1}, {\"Age\": 47, \"Annual Income (k$)\": 43, \"Spending Score (1-100)\": 41, \"cluster3\": 2, \"cluster5\": 1}, {\"Age\": 51, \"Annual Income (k$)\": 44, \"Spending Score (1-100)\": 50, \"cluster3\": 2, \"cluster5\": 1}, {\"Age\": 69, \"Annual Income (k$)\": 44, \"Spending Score (1-100)\": 46, \"cluster3\": 2, \"cluster5\": 1}, {\"Age\": 27, \"Annual Income (k$)\": 46, \"Spending Score (1-100)\": 51, \"cluster3\": 3, \"cluster5\": 0}, {\"Age\": 53, \"Annual Income (k$)\": 46, \"Spending Score (1-100)\": 46, \"cluster3\": 2, \"cluster5\": 1}, {\"Age\": 70, \"Annual Income (k$)\": 46, \"Spending Score (1-100)\": 56, \"cluster3\": 2, \"cluster5\": 1}, {\"Age\": 19, \"Annual Income (k$)\": 46, \"Spending Score (1-100)\": 55, \"cluster3\": 3, \"cluster5\": 0}, {\"Age\": 67, \"Annual Income (k$)\": 47, \"Spending Score (1-100)\": 52, \"cluster3\": 2, \"cluster5\": 1}, {\"Age\": 54, \"Annual Income (k$)\": 47, \"Spending Score (1-100)\": 59, \"cluster3\": 2, \"cluster5\": 1}, {\"Age\": 63, \"Annual Income (k$)\": 48, \"Spending Score (1-100)\": 51, \"cluster3\": 2, \"cluster5\": 1}, {\"Age\": 18, \"Annual Income (k$)\": 48, \"Spending Score (1-100)\": 59, \"cluster3\": 3, \"cluster5\": 0}, {\"Age\": 43, \"Annual Income (k$)\": 48, \"Spending Score (1-100)\": 50, \"cluster3\": 2, \"cluster5\": 1}, {\"Age\": 68, \"Annual Income (k$)\": 48, \"Spending Score (1-100)\": 48, \"cluster3\": 2, \"cluster5\": 1}, {\"Age\": 19, \"Annual Income (k$)\": 48, \"Spending Score (1-100)\": 59, \"cluster3\": 3, \"cluster5\": 0}, {\"Age\": 32, \"Annual Income (k$)\": 48, \"Spending Score (1-100)\": 47, \"cluster3\": 3, \"cluster5\": 0}, {\"Age\": 70, \"Annual Income (k$)\": 49, \"Spending Score (1-100)\": 55, \"cluster3\": 2, \"cluster5\": 1}, {\"Age\": 47, \"Annual Income (k$)\": 49, \"Spending Score (1-100)\": 42, \"cluster3\": 2, \"cluster5\": 1}, {\"Age\": 60, \"Annual Income (k$)\": 50, \"Spending Score (1-100)\": 49, \"cluster3\": 2, \"cluster5\": 1}, {\"Age\": 60, \"Annual Income (k$)\": 50, \"Spending Score (1-100)\": 56, \"cluster3\": 2, \"cluster5\": 1}, {\"Age\": 59, \"Annual Income (k$)\": 54, \"Spending Score (1-100)\": 47, \"cluster3\": 2, \"cluster5\": 1}, {\"Age\": 26, \"Annual Income (k$)\": 54, \"Spending Score (1-100)\": 54, \"cluster3\": 0, \"cluster5\": 2}, {\"Age\": 45, \"Annual Income (k$)\": 54, \"Spending Score (1-100)\": 53, \"cluster3\": 2, \"cluster5\": 1}, {\"Age\": 40, \"Annual Income (k$)\": 54, \"Spending Score (1-100)\": 48, \"cluster3\": 0, \"cluster5\": 1}, {\"Age\": 23, \"Annual Income (k$)\": 54, \"Spending Score (1-100)\": 52, \"cluster3\": 0, \"cluster5\": 2}, {\"Age\": 49, \"Annual Income (k$)\": 54, \"Spending Score (1-100)\": 42, \"cluster3\": 2, \"cluster5\": 1}, {\"Age\": 57, \"Annual Income (k$)\": 54, \"Spending Score (1-100)\": 51, \"cluster3\": 2, \"cluster5\": 1}, {\"Age\": 38, \"Annual Income (k$)\": 54, \"Spending Score (1-100)\": 55, \"cluster3\": 0, \"cluster5\": 1}, {\"Age\": 67, \"Annual Income (k$)\": 54, \"Spending Score (1-100)\": 41, \"cluster3\": 2, \"cluster5\": 1}, {\"Age\": 46, \"Annual Income (k$)\": 54, \"Spending Score (1-100)\": 44, \"cluster3\": 2, \"cluster5\": 1}, {\"Age\": 21, \"Annual Income (k$)\": 54, \"Spending Score (1-100)\": 57, \"cluster3\": 0, \"cluster5\": 2}, {\"Age\": 48, \"Annual Income (k$)\": 54, \"Spending Score (1-100)\": 46, \"cluster3\": 2, \"cluster5\": 1}, {\"Age\": 55, \"Annual Income (k$)\": 57, \"Spending Score (1-100)\": 58, \"cluster3\": 2, \"cluster5\": 1}, {\"Age\": 22, \"Annual Income (k$)\": 57, \"Spending Score (1-100)\": 55, \"cluster3\": 0, \"cluster5\": 2}, {\"Age\": 34, \"Annual Income (k$)\": 58, \"Spending Score (1-100)\": 60, \"cluster3\": 0, \"cluster5\": 2}, {\"Age\": 50, \"Annual Income (k$)\": 58, \"Spending Score (1-100)\": 46, \"cluster3\": 2, \"cluster5\": 1}, {\"Age\": 68, \"Annual Income (k$)\": 59, \"Spending Score (1-100)\": 55, \"cluster3\": 2, \"cluster5\": 1}, {\"Age\": 18, \"Annual Income (k$)\": 59, \"Spending Score (1-100)\": 41, \"cluster3\": 0, \"cluster5\": 2}, {\"Age\": 48, \"Annual Income (k$)\": 60, \"Spending Score (1-100)\": 49, \"cluster3\": 2, \"cluster5\": 1}, {\"Age\": 40, \"Annual Income (k$)\": 60, \"Spending Score (1-100)\": 40, \"cluster3\": 0, \"cluster5\": 2}, {\"Age\": 32, \"Annual Income (k$)\": 60, \"Spending Score (1-100)\": 42, \"cluster3\": 0, \"cluster5\": 2}, {\"Age\": 24, \"Annual Income (k$)\": 60, \"Spending Score (1-100)\": 52, \"cluster3\": 0, \"cluster5\": 2}, {\"Age\": 47, \"Annual Income (k$)\": 60, \"Spending Score (1-100)\": 47, \"cluster3\": 2, \"cluster5\": 1}, {\"Age\": 27, \"Annual Income (k$)\": 60, \"Spending Score (1-100)\": 50, \"cluster3\": 0, \"cluster5\": 2}, {\"Age\": 48, \"Annual Income (k$)\": 61, \"Spending Score (1-100)\": 42, \"cluster3\": 2, \"cluster5\": 1}, {\"Age\": 20, \"Annual Income (k$)\": 61, \"Spending Score (1-100)\": 49, \"cluster3\": 0, \"cluster5\": 2}, {\"Age\": 23, \"Annual Income (k$)\": 62, \"Spending Score (1-100)\": 41, \"cluster3\": 0, \"cluster5\": 2}, {\"Age\": 49, \"Annual Income (k$)\": 62, \"Spending Score (1-100)\": 48, \"cluster3\": 2, \"cluster5\": 1}, {\"Age\": 67, \"Annual Income (k$)\": 62, \"Spending Score (1-100)\": 59, \"cluster3\": 2, \"cluster5\": 1}, {\"Age\": 26, \"Annual Income (k$)\": 62, \"Spending Score (1-100)\": 55, \"cluster3\": 0, \"cluster5\": 2}, {\"Age\": 49, \"Annual Income (k$)\": 62, \"Spending Score (1-100)\": 56, \"cluster3\": 2, \"cluster5\": 1}, {\"Age\": 21, \"Annual Income (k$)\": 62, \"Spending Score (1-100)\": 42, \"cluster3\": 0, \"cluster5\": 2}, {\"Age\": 66, \"Annual Income (k$)\": 63, \"Spending Score (1-100)\": 50, \"cluster3\": 2, \"cluster5\": 1}, {\"Age\": 54, \"Annual Income (k$)\": 63, \"Spending Score (1-100)\": 46, \"cluster3\": 2, \"cluster5\": 1}, {\"Age\": 68, \"Annual Income (k$)\": 63, \"Spending Score (1-100)\": 43, \"cluster3\": 2, \"cluster5\": 1}, {\"Age\": 66, \"Annual Income (k$)\": 63, \"Spending Score (1-100)\": 48, \"cluster3\": 2, \"cluster5\": 1}, {\"Age\": 65, \"Annual Income (k$)\": 63, \"Spending Score (1-100)\": 52, \"cluster3\": 2, \"cluster5\": 1}, {\"Age\": 19, \"Annual Income (k$)\": 63, \"Spending Score (1-100)\": 54, \"cluster3\": 0, \"cluster5\": 2}, {\"Age\": 38, \"Annual Income (k$)\": 64, \"Spending Score (1-100)\": 42, \"cluster3\": 0, \"cluster5\": 2}, {\"Age\": 19, \"Annual Income (k$)\": 64, \"Spending Score (1-100)\": 46, \"cluster3\": 0, \"cluster5\": 2}, {\"Age\": 18, \"Annual Income (k$)\": 65, \"Spending Score (1-100)\": 48, \"cluster3\": 0, \"cluster5\": 2}, {\"Age\": 19, \"Annual Income (k$)\": 65, \"Spending Score (1-100)\": 50, \"cluster3\": 0, \"cluster5\": 2}, {\"Age\": 63, \"Annual Income (k$)\": 65, \"Spending Score (1-100)\": 43, \"cluster3\": 2, \"cluster5\": 1}, {\"Age\": 49, \"Annual Income (k$)\": 65, \"Spending Score (1-100)\": 59, \"cluster3\": 0, \"cluster5\": 1}, {\"Age\": 51, \"Annual Income (k$)\": 67, \"Spending Score (1-100)\": 43, \"cluster3\": 0, \"cluster5\": 1}, {\"Age\": 50, \"Annual Income (k$)\": 67, \"Spending Score (1-100)\": 57, \"cluster3\": 0, \"cluster5\": 1}, {\"Age\": 27, \"Annual Income (k$)\": 67, \"Spending Score (1-100)\": 56, \"cluster3\": 0, \"cluster5\": 2}, {\"Age\": 38, \"Annual Income (k$)\": 67, \"Spending Score (1-100)\": 40, \"cluster3\": 0, \"cluster5\": 2}, {\"Age\": 40, \"Annual Income (k$)\": 69, \"Spending Score (1-100)\": 58, \"cluster3\": 0, \"cluster5\": 2}, {\"Age\": 39, \"Annual Income (k$)\": 69, \"Spending Score (1-100)\": 91, \"cluster3\": 0, \"cluster5\": 2}, {\"Age\": 23, \"Annual Income (k$)\": 70, \"Spending Score (1-100)\": 29, \"cluster3\": 0, \"cluster5\": 2}, {\"Age\": 31, \"Annual Income (k$)\": 70, \"Spending Score (1-100)\": 77, \"cluster3\": 0, \"cluster5\": 2}, {\"Age\": 43, \"Annual Income (k$)\": 71, \"Spending Score (1-100)\": 35, \"cluster3\": 0, \"cluster5\": 2}, {\"Age\": 40, \"Annual Income (k$)\": 71, \"Spending Score (1-100)\": 95, \"cluster3\": 0, \"cluster5\": 2}, {\"Age\": 59, \"Annual Income (k$)\": 71, \"Spending Score (1-100)\": 11, \"cluster3\": 2, \"cluster5\": 1}, {\"Age\": 38, \"Annual Income (k$)\": 71, \"Spending Score (1-100)\": 75, \"cluster3\": 0, \"cluster5\": 2}, {\"Age\": 47, \"Annual Income (k$)\": 71, \"Spending Score (1-100)\": 9, \"cluster3\": 0, \"cluster5\": 2}, {\"Age\": 39, \"Annual Income (k$)\": 71, \"Spending Score (1-100)\": 75, \"cluster3\": 0, \"cluster5\": 2}, {\"Age\": 25, \"Annual Income (k$)\": 72, \"Spending Score (1-100)\": 34, \"cluster3\": 0, \"cluster5\": 2}, {\"Age\": 31, \"Annual Income (k$)\": 72, \"Spending Score (1-100)\": 71, \"cluster3\": 0, \"cluster5\": 2}, {\"Age\": 20, \"Annual Income (k$)\": 73, \"Spending Score (1-100)\": 5, \"cluster3\": 0, \"cluster5\": 2}, {\"Age\": 29, \"Annual Income (k$)\": 73, \"Spending Score (1-100)\": 88, \"cluster3\": 0, \"cluster5\": 2}, {\"Age\": 44, \"Annual Income (k$)\": 73, \"Spending Score (1-100)\": 7, \"cluster3\": 0, \"cluster5\": 2}, {\"Age\": 32, \"Annual Income (k$)\": 73, \"Spending Score (1-100)\": 73, \"cluster3\": 0, \"cluster5\": 2}, {\"Age\": 19, \"Annual Income (k$)\": 74, \"Spending Score (1-100)\": 10, \"cluster3\": 0, \"cluster5\": 2}, {\"Age\": 35, \"Annual Income (k$)\": 74, \"Spending Score (1-100)\": 72, \"cluster3\": 0, \"cluster5\": 2}, {\"Age\": 57, \"Annual Income (k$)\": 75, \"Spending Score (1-100)\": 5, \"cluster3\": 0, \"cluster5\": 1}, {\"Age\": 32, \"Annual Income (k$)\": 75, \"Spending Score (1-100)\": 93, \"cluster3\": 0, \"cluster5\": 2}, {\"Age\": 28, \"Annual Income (k$)\": 76, \"Spending Score (1-100)\": 40, \"cluster3\": 0, \"cluster5\": 2}, {\"Age\": 32, \"Annual Income (k$)\": 76, \"Spending Score (1-100)\": 87, \"cluster3\": 0, \"cluster5\": 2}, {\"Age\": 25, \"Annual Income (k$)\": 77, \"Spending Score (1-100)\": 12, \"cluster3\": 0, \"cluster5\": 2}, {\"Age\": 28, \"Annual Income (k$)\": 77, \"Spending Score (1-100)\": 97, \"cluster3\": 0, \"cluster5\": 2}, {\"Age\": 48, \"Annual Income (k$)\": 77, \"Spending Score (1-100)\": 36, \"cluster3\": 0, \"cluster5\": 2}, {\"Age\": 32, \"Annual Income (k$)\": 77, \"Spending Score (1-100)\": 74, \"cluster3\": 0, \"cluster5\": 2}, {\"Age\": 34, \"Annual Income (k$)\": 78, \"Spending Score (1-100)\": 22, \"cluster3\": 0, \"cluster5\": 2}, {\"Age\": 34, \"Annual Income (k$)\": 78, \"Spending Score (1-100)\": 90, \"cluster3\": 0, \"cluster5\": 2}, {\"Age\": 43, \"Annual Income (k$)\": 78, \"Spending Score (1-100)\": 17, \"cluster3\": 0, \"cluster5\": 2}, {\"Age\": 39, \"Annual Income (k$)\": 78, \"Spending Score (1-100)\": 88, \"cluster3\": 0, \"cluster5\": 2}, {\"Age\": 44, \"Annual Income (k$)\": 78, \"Spending Score (1-100)\": 20, \"cluster3\": 0, \"cluster5\": 2}, {\"Age\": 38, \"Annual Income (k$)\": 78, \"Spending Score (1-100)\": 76, \"cluster3\": 0, \"cluster5\": 2}, {\"Age\": 47, \"Annual Income (k$)\": 78, \"Spending Score (1-100)\": 16, \"cluster3\": 0, \"cluster5\": 2}, {\"Age\": 27, \"Annual Income (k$)\": 78, \"Spending Score (1-100)\": 89, \"cluster3\": 0, \"cluster5\": 2}, {\"Age\": 37, \"Annual Income (k$)\": 78, \"Spending Score (1-100)\": 1, \"cluster3\": 0, \"cluster5\": 2}, {\"Age\": 30, \"Annual Income (k$)\": 78, \"Spending Score (1-100)\": 78, \"cluster3\": 0, \"cluster5\": 2}, {\"Age\": 34, \"Annual Income (k$)\": 78, \"Spending Score (1-100)\": 1, \"cluster3\": 0, \"cluster5\": 2}, {\"Age\": 30, \"Annual Income (k$)\": 78, \"Spending Score (1-100)\": 73, \"cluster3\": 0, \"cluster5\": 2}, {\"Age\": 56, \"Annual Income (k$)\": 79, \"Spending Score (1-100)\": 35, \"cluster3\": 0, \"cluster5\": 2}, {\"Age\": 29, \"Annual Income (k$)\": 79, \"Spending Score (1-100)\": 83, \"cluster3\": 0, \"cluster5\": 2}, {\"Age\": 19, \"Annual Income (k$)\": 81, \"Spending Score (1-100)\": 5, \"cluster3\": 0, \"cluster5\": 2}, {\"Age\": 31, \"Annual Income (k$)\": 81, \"Spending Score (1-100)\": 93, \"cluster3\": 0, \"cluster5\": 2}, {\"Age\": 50, \"Annual Income (k$)\": 85, \"Spending Score (1-100)\": 26, \"cluster3\": 1, \"cluster5\": 2}, {\"Age\": 36, \"Annual Income (k$)\": 85, \"Spending Score (1-100)\": 75, \"cluster3\": 1, \"cluster5\": 2}, {\"Age\": 42, \"Annual Income (k$)\": 86, \"Spending Score (1-100)\": 20, \"cluster3\": 1, \"cluster5\": 2}, {\"Age\": 33, \"Annual Income (k$)\": 86, \"Spending Score (1-100)\": 95, \"cluster3\": 1, \"cluster5\": 2}, {\"Age\": 36, \"Annual Income (k$)\": 87, \"Spending Score (1-100)\": 27, \"cluster3\": 1, \"cluster5\": 2}, {\"Age\": 32, \"Annual Income (k$)\": 87, \"Spending Score (1-100)\": 63, \"cluster3\": 1, \"cluster5\": 2}, {\"Age\": 40, \"Annual Income (k$)\": 87, \"Spending Score (1-100)\": 13, \"cluster3\": 1, \"cluster5\": 2}, {\"Age\": 28, \"Annual Income (k$)\": 87, \"Spending Score (1-100)\": 75, \"cluster3\": 1, \"cluster5\": 2}, {\"Age\": 36, \"Annual Income (k$)\": 87, \"Spending Score (1-100)\": 10, \"cluster3\": 1, \"cluster5\": 2}, {\"Age\": 36, \"Annual Income (k$)\": 87, \"Spending Score (1-100)\": 92, \"cluster3\": 1, \"cluster5\": 2}, {\"Age\": 52, \"Annual Income (k$)\": 88, \"Spending Score (1-100)\": 13, \"cluster3\": 1, \"cluster5\": 3}, {\"Age\": 30, \"Annual Income (k$)\": 88, \"Spending Score (1-100)\": 86, \"cluster3\": 1, \"cluster5\": 2}, {\"Age\": 58, \"Annual Income (k$)\": 88, \"Spending Score (1-100)\": 15, \"cluster3\": 1, \"cluster5\": 3}, {\"Age\": 27, \"Annual Income (k$)\": 88, \"Spending Score (1-100)\": 69, \"cluster3\": 1, \"cluster5\": 2}, {\"Age\": 59, \"Annual Income (k$)\": 93, \"Spending Score (1-100)\": 14, \"cluster3\": 1, \"cluster5\": 3}, {\"Age\": 35, \"Annual Income (k$)\": 93, \"Spending Score (1-100)\": 90, \"cluster3\": 1, \"cluster5\": 3}, {\"Age\": 37, \"Annual Income (k$)\": 97, \"Spending Score (1-100)\": 32, \"cluster3\": 1, \"cluster5\": 3}, {\"Age\": 32, \"Annual Income (k$)\": 97, \"Spending Score (1-100)\": 86, \"cluster3\": 1, \"cluster5\": 3}, {\"Age\": 46, \"Annual Income (k$)\": 98, \"Spending Score (1-100)\": 15, \"cluster3\": 1, \"cluster5\": 3}, {\"Age\": 29, \"Annual Income (k$)\": 98, \"Spending Score (1-100)\": 88, \"cluster3\": 1, \"cluster5\": 3}, {\"Age\": 41, \"Annual Income (k$)\": 99, \"Spending Score (1-100)\": 39, \"cluster3\": 1, \"cluster5\": 3}, {\"Age\": 30, \"Annual Income (k$)\": 99, \"Spending Score (1-100)\": 97, \"cluster3\": 1, \"cluster5\": 3}, {\"Age\": 54, \"Annual Income (k$)\": 101, \"Spending Score (1-100)\": 24, \"cluster3\": 1, \"cluster5\": 3}, {\"Age\": 28, \"Annual Income (k$)\": 101, \"Spending Score (1-100)\": 68, \"cluster3\": 1, \"cluster5\": 3}, {\"Age\": 41, \"Annual Income (k$)\": 103, \"Spending Score (1-100)\": 17, \"cluster3\": 1, \"cluster5\": 3}, {\"Age\": 36, \"Annual Income (k$)\": 103, \"Spending Score (1-100)\": 85, \"cluster3\": 1, \"cluster5\": 3}, {\"Age\": 34, \"Annual Income (k$)\": 103, \"Spending Score (1-100)\": 23, \"cluster3\": 1, \"cluster5\": 3}, {\"Age\": 32, \"Annual Income (k$)\": 103, \"Spending Score (1-100)\": 69, \"cluster3\": 1, \"cluster5\": 3}, {\"Age\": 33, \"Annual Income (k$)\": 113, \"Spending Score (1-100)\": 8, \"cluster3\": 1, \"cluster5\": 3}, {\"Age\": 38, \"Annual Income (k$)\": 113, \"Spending Score (1-100)\": 91, \"cluster3\": 1, \"cluster5\": 3}, {\"Age\": 47, \"Annual Income (k$)\": 120, \"Spending Score (1-100)\": 16, \"cluster3\": 1, \"cluster5\": 3}, {\"Age\": 35, \"Annual Income (k$)\": 120, \"Spending Score (1-100)\": 79, \"cluster3\": 1, \"cluster5\": 3}, {\"Age\": 45, \"Annual Income (k$)\": 126, \"Spending Score (1-100)\": 28, \"cluster3\": 1, \"cluster5\": 3}, {\"Age\": 32, \"Annual Income (k$)\": 126, \"Spending Score (1-100)\": 74, \"cluster3\": 1, \"cluster5\": 3}, {\"Age\": 32, \"Annual Income (k$)\": 137, \"Spending Score (1-100)\": 18, \"cluster3\": 1, \"cluster5\": 3}, {\"Age\": 30, \"Annual Income (k$)\": 137, \"Spending Score (1-100)\": 83, \"cluster3\": 1, \"cluster5\": 3}]}}, {\"mode\": \"vega-lite\"});\n",
       "</script>"
      ],
      "text/plain": [
       "alt.Chart(...)"
      ]
     },
     "execution_count": 16,
     "metadata": {},
     "output_type": "execute_result"
    }
   ],
   "source": [
    "#@title Again, repeat Steps 5 to 8 but with different k-means hyperparameters – n_init=100 and random init\n",
    "kmeans = KMeans(random_state=1, n_clusters=4, \\\n",
    "                init='random', n_init=100)\n",
    "kmeans.fit(X)\n",
    "data['cluster5'] = kmeans.predict(X)\n",
    "scatter_plot = alt.Chart(data).mark_circle()\n",
    "scatter_plot.encode(x='Age', \\\n",
    "                    y='Annual Income (k$)', \\\n",
    "                    color='cluster5:N', \\\n",
    "                    tooltip=['Spending Score (1-100)', 'cluster5', \\\n",
    "                    'Age', \\\n",
    "                    'Annual Income (k$)'])\\\n",
    "            .interactive()"
   ]
  },
  {
   "cell_type": "code",
   "execution_count": null,
   "metadata": {},
   "outputs": [],
   "source": []
  }
 ],
 "metadata": {
  "kernelspec": {
   "display_name": "Python 3",
   "language": "python",
   "name": "python3"
  },
  "language_info": {
   "codemirror_mode": {
    "name": "ipython",
    "version": 3
   },
   "file_extension": ".py",
   "mimetype": "text/x-python",
   "name": "python",
   "nbconvert_exporter": "python",
   "pygments_lexer": "ipython3",
   "version": "3.8.6"
  }
 },
 "nbformat": 4,
 "nbformat_minor": 4
}
