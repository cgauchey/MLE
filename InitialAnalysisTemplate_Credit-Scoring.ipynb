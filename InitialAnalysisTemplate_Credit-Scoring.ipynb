{
 "cells": [
  {
   "cell_type": "code",
   "execution_count": 1,
   "metadata": {},
   "outputs": [
    {
     "name": "stdout",
     "output_type": "stream",
     "text": [
      "\u001b[33mWARNING: The directory '/home/jovyan/.cache/pip' or its parent directory is not owned or is not writable by the current user. The cache has been disabled. Check the permissions and owner of that directory. If executing pip with sudo, you may want sudo's -H flag.\u001b[0m\n",
      "Requirement already satisfied: numpy in /opt/conda/lib/python3.8/site-packages (1.18.5)\n",
      "Requirement already satisfied: xlrd in /opt/conda/lib/python3.8/site-packages (1.2.0)\n",
      "Requirement already satisfied: pandas in /opt/conda/lib/python3.8/site-packages (1.1.4)\n",
      "Requirement already satisfied: matplotlib in /opt/conda/lib/python3.8/site-packages (3.3.2)\n",
      "Requirement already satisfied: seaborn in /opt/conda/lib/python3.8/site-packages (0.11.0)\n",
      "Collecting sklearn\n",
      "  Downloading sklearn-0.0.tar.gz (1.1 kB)\n",
      "Requirement already satisfied: python-dateutil>=2.7.3 in /opt/conda/lib/python3.8/site-packages (from pandas) (2.8.1)\n",
      "Requirement already satisfied: pytz>=2017.2 in /opt/conda/lib/python3.8/site-packages (from pandas) (2020.4)\n",
      "Requirement already satisfied: pyparsing!=2.0.4,!=2.1.2,!=2.1.6,>=2.0.3 in /opt/conda/lib/python3.8/site-packages (from matplotlib) (2.4.7)\n",
      "Requirement already satisfied: pillow>=6.2.0 in /opt/conda/lib/python3.8/site-packages (from matplotlib) (8.0.1)\n",
      "Requirement already satisfied: kiwisolver>=1.0.1 in /opt/conda/lib/python3.8/site-packages (from matplotlib) (1.3.1)\n",
      "Requirement already satisfied: cycler>=0.10 in /opt/conda/lib/python3.8/site-packages (from matplotlib) (0.10.0)\n",
      "Requirement already satisfied: certifi>=2020.06.20 in /opt/conda/lib/python3.8/site-packages (from matplotlib) (2020.6.20)\n",
      "Requirement already satisfied: scipy>=1.0 in /opt/conda/lib/python3.8/site-packages (from seaborn) (1.5.3)\n",
      "Requirement already satisfied: scikit-learn in /opt/conda/lib/python3.8/site-packages (from sklearn) (0.23.2)\n",
      "Requirement already satisfied: six>=1.5 in /opt/conda/lib/python3.8/site-packages (from python-dateutil>=2.7.3->pandas) (1.15.0)\n",
      "Requirement already satisfied: threadpoolctl>=2.0.0 in /opt/conda/lib/python3.8/site-packages (from scikit-learn->sklearn) (2.1.0)\n",
      "Requirement already satisfied: joblib>=0.11 in /opt/conda/lib/python3.8/site-packages (from scikit-learn->sklearn) (0.17.0)\n",
      "Building wheels for collected packages: sklearn\n",
      "  Building wheel for sklearn (setup.py) ... \u001b[?25ldone\n",
      "\u001b[?25h  Created wheel for sklearn: filename=sklearn-0.0-py2.py3-none-any.whl size=1316 sha256=8a5449cc13c3f09811191c9a5c6e6c17a956f164472498746140a612140bb16f\n",
      "  Stored in directory: /tmp/pip-ephem-wheel-cache-5ex6czb6/wheels/22/0b/40/fd3f795caaa1fb4c6cb738bc1f56100be1e57da95849bfc897\n",
      "Successfully built sklearn\n",
      "Installing collected packages: sklearn\n",
      "Successfully installed sklearn-0.0\n"
     ]
    }
   ],
   "source": [
    "!pip install numpy xlrd pandas matplotlib seaborn sklearn"
   ]
  },
  {
   "cell_type": "code",
   "execution_count": 5,
   "metadata": {},
   "outputs": [],
   "source": [
    "#Import your Libraries\n",
    "import numpy as np\n",
    "import pandas as pd\n",
    "from matplotlib import pyplot as plt\n",
    "import seaborn as sns\n",
    "import sklearn.metrics as metrics\n",
    "%matplotlib inline"
   ]
  },
  {
   "cell_type": "code",
   "execution_count": 6,
   "metadata": {},
   "outputs": [],
   "source": [
    "# %%timeit -n 1\n",
    "# Load your data  -- start with CreditScoring.csv... then online retail\n",
    "# df = pd.read_csv('./data/REPLACE_WITH_YOUR_FILE')\n",
    "#  you can also pull from urls like this:   \n",
    "df = pd.read_csv('https://raw.githubusercontent.com/fenago/pythonml/main/data/CleanCreditScoring.csv')"
   ]
  },
  {
   "cell_type": "markdown",
   "metadata": {},
   "source": [
    "## Notes\n",
    "\n",
    "This session covers data collection and some procedures of data preparation. \n",
    "\n",
    "**Commands, functions, and methods:** \n",
    "\n",
    "* `!wget` - Linux shell command for downloading data \n",
    "* `pd.read.csv()` - read csv files \n",
    "* `df.head()` - take a look of the dataframe \n",
    "* `df.head().T` - take a look of the transposed dataframe \n",
    "* `df.columns` - retrieve column names of a dataframe \n",
    "* `df.columns.str.lower()` - lowercase all the letters \n",
    "* `df.columns.str.replace(' ', '_')` - replace the space separator \n",
    "* `df.dtypes` - retrieve data types of all series \n",
    "* `df.index` - retrive indices of a dataframe\n",
    "* `pd.to_numeric()` - convert a series values to numerical values. The `errors=coerce` argument allows making the transformation despite some encountered errors. \n",
    "* `df.fillna()` - replace NAs with some value \n",
    "* `(df.x == \"yes\").astype(int)` - convert x series of yes-no values to numerical values.\n",
    "* `df['Weight'] = df['Weight'].astype(int)` - this takes a single column of data and converts the data type"
   ]
  },
  {
   "cell_type": "code",
   "execution_count": 7,
   "metadata": {},
   "outputs": [
    {
     "data": {
      "text/plain": [
       "4446"
      ]
     },
     "execution_count": 7,
     "metadata": {},
     "output_type": "execute_result"
    }
   ],
   "source": [
    "len(df)"
   ]
  },
  {
   "cell_type": "code",
   "execution_count": 8,
   "metadata": {},
   "outputs": [
    {
     "data": {
      "text/html": [
       "<div>\n",
       "<style scoped>\n",
       "    .dataframe tbody tr th:only-of-type {\n",
       "        vertical-align: middle;\n",
       "    }\n",
       "\n",
       "    .dataframe tbody tr th {\n",
       "        vertical-align: top;\n",
       "    }\n",
       "\n",
       "    .dataframe thead th {\n",
       "        text-align: right;\n",
       "    }\n",
       "</style>\n",
       "<table border=\"1\" class=\"dataframe\">\n",
       "  <thead>\n",
       "    <tr style=\"text-align: right;\">\n",
       "      <th></th>\n",
       "      <th>Seniority</th>\n",
       "      <th>Time</th>\n",
       "      <th>Age</th>\n",
       "      <th>Expenses</th>\n",
       "      <th>Income</th>\n",
       "      <th>Assets</th>\n",
       "      <th>Debt</th>\n",
       "      <th>Amount</th>\n",
       "      <th>Price</th>\n",
       "      <th>Finrat</th>\n",
       "      <th>Savings</th>\n",
       "    </tr>\n",
       "  </thead>\n",
       "  <tbody>\n",
       "    <tr>\n",
       "      <th>count</th>\n",
       "      <td>4446.000000</td>\n",
       "      <td>4446.000000</td>\n",
       "      <td>4446.000000</td>\n",
       "      <td>4446.000000</td>\n",
       "      <td>4446.000000</td>\n",
       "      <td>4446.000000</td>\n",
       "      <td>4446.000000</td>\n",
       "      <td>4446.000000</td>\n",
       "      <td>4446.000000</td>\n",
       "      <td>4446.000000</td>\n",
       "      <td>4446.000000</td>\n",
       "    </tr>\n",
       "    <tr>\n",
       "      <th>mean</th>\n",
       "      <td>7.991453</td>\n",
       "      <td>46.453441</td>\n",
       "      <td>37.084121</td>\n",
       "      <td>55.601439</td>\n",
       "      <td>140.629780</td>\n",
       "      <td>5354.948943</td>\n",
       "      <td>342.257085</td>\n",
       "      <td>1038.763383</td>\n",
       "      <td>1462.480432</td>\n",
       "      <td>72.616409</td>\n",
       "      <td>3.860083</td>\n",
       "    </tr>\n",
       "    <tr>\n",
       "      <th>std</th>\n",
       "      <td>8.176370</td>\n",
       "      <td>14.647979</td>\n",
       "      <td>10.986366</td>\n",
       "      <td>19.520839</td>\n",
       "      <td>80.177896</td>\n",
       "      <td>11534.328183</td>\n",
       "      <td>1244.694549</td>\n",
       "      <td>474.747952</td>\n",
       "      <td>628.555171</td>\n",
       "      <td>20.390595</td>\n",
       "      <td>3.726292</td>\n",
       "    </tr>\n",
       "    <tr>\n",
       "      <th>min</th>\n",
       "      <td>0.000000</td>\n",
       "      <td>6.000000</td>\n",
       "      <td>18.000000</td>\n",
       "      <td>35.000000</td>\n",
       "      <td>1.000000</td>\n",
       "      <td>0.000000</td>\n",
       "      <td>0.000000</td>\n",
       "      <td>100.000000</td>\n",
       "      <td>105.000000</td>\n",
       "      <td>6.702413</td>\n",
       "      <td>-8.160000</td>\n",
       "    </tr>\n",
       "    <tr>\n",
       "      <th>25%</th>\n",
       "      <td>2.000000</td>\n",
       "      <td>36.000000</td>\n",
       "      <td>28.000000</td>\n",
       "      <td>35.000000</td>\n",
       "      <td>90.000000</td>\n",
       "      <td>0.000000</td>\n",
       "      <td>0.000000</td>\n",
       "      <td>700.000000</td>\n",
       "      <td>1116.250000</td>\n",
       "      <td>60.030020</td>\n",
       "      <td>1.615385</td>\n",
       "    </tr>\n",
       "    <tr>\n",
       "      <th>50%</th>\n",
       "      <td>5.000000</td>\n",
       "      <td>48.000000</td>\n",
       "      <td>36.000000</td>\n",
       "      <td>51.000000</td>\n",
       "      <td>124.000000</td>\n",
       "      <td>3000.000000</td>\n",
       "      <td>0.000000</td>\n",
       "      <td>1000.000000</td>\n",
       "      <td>1400.000000</td>\n",
       "      <td>77.096757</td>\n",
       "      <td>3.120000</td>\n",
       "    </tr>\n",
       "    <tr>\n",
       "      <th>75%</th>\n",
       "      <td>12.000000</td>\n",
       "      <td>60.000000</td>\n",
       "      <td>45.000000</td>\n",
       "      <td>72.000000</td>\n",
       "      <td>170.000000</td>\n",
       "      <td>6000.000000</td>\n",
       "      <td>0.000000</td>\n",
       "      <td>1300.000000</td>\n",
       "      <td>1691.500000</td>\n",
       "      <td>88.460263</td>\n",
       "      <td>5.195688</td>\n",
       "    </tr>\n",
       "    <tr>\n",
       "      <th>max</th>\n",
       "      <td>48.000000</td>\n",
       "      <td>72.000000</td>\n",
       "      <td>68.000000</td>\n",
       "      <td>180.000000</td>\n",
       "      <td>959.000000</td>\n",
       "      <td>300000.000000</td>\n",
       "      <td>30000.000000</td>\n",
       "      <td>5000.000000</td>\n",
       "      <td>11140.000000</td>\n",
       "      <td>100.000000</td>\n",
       "      <td>33.250000</td>\n",
       "    </tr>\n",
       "  </tbody>\n",
       "</table>\n",
       "</div>"
      ],
      "text/plain": [
       "         Seniority         Time          Age     Expenses       Income  \\\n",
       "count  4446.000000  4446.000000  4446.000000  4446.000000  4446.000000   \n",
       "mean      7.991453    46.453441    37.084121    55.601439   140.629780   \n",
       "std       8.176370    14.647979    10.986366    19.520839    80.177896   \n",
       "min       0.000000     6.000000    18.000000    35.000000     1.000000   \n",
       "25%       2.000000    36.000000    28.000000    35.000000    90.000000   \n",
       "50%       5.000000    48.000000    36.000000    51.000000   124.000000   \n",
       "75%      12.000000    60.000000    45.000000    72.000000   170.000000   \n",
       "max      48.000000    72.000000    68.000000   180.000000   959.000000   \n",
       "\n",
       "              Assets          Debt       Amount         Price       Finrat  \\\n",
       "count    4446.000000   4446.000000  4446.000000   4446.000000  4446.000000   \n",
       "mean     5354.948943    342.257085  1038.763383   1462.480432    72.616409   \n",
       "std     11534.328183   1244.694549   474.747952    628.555171    20.390595   \n",
       "min         0.000000      0.000000   100.000000    105.000000     6.702413   \n",
       "25%         0.000000      0.000000   700.000000   1116.250000    60.030020   \n",
       "50%      3000.000000      0.000000  1000.000000   1400.000000    77.096757   \n",
       "75%      6000.000000      0.000000  1300.000000   1691.500000    88.460263   \n",
       "max    300000.000000  30000.000000  5000.000000  11140.000000   100.000000   \n",
       "\n",
       "           Savings  \n",
       "count  4446.000000  \n",
       "mean      3.860083  \n",
       "std       3.726292  \n",
       "min      -8.160000  \n",
       "25%       1.615385  \n",
       "50%       3.120000  \n",
       "75%       5.195688  \n",
       "max      33.250000  "
      ]
     },
     "execution_count": 8,
     "metadata": {},
     "output_type": "execute_result"
    }
   ],
   "source": [
    "df.describe()"
   ]
  },
  {
   "cell_type": "code",
   "execution_count": 9,
   "metadata": {},
   "outputs": [
    {
     "data": {
      "text/plain": [
       "(4446, 27)"
      ]
     },
     "execution_count": 9,
     "metadata": {},
     "output_type": "execute_result"
    }
   ],
   "source": [
    "df.shape\n",
    "#(rows, columns)"
   ]
  },
  {
   "cell_type": "code",
   "execution_count": 11,
   "metadata": {},
   "outputs": [
    {
     "name": "stdout",
     "output_type": "stream",
     "text": [
      "<class 'pandas.core.frame.DataFrame'>\n",
      "RangeIndex: 4446 entries, 0 to 4445\n",
      "Data columns (total 27 columns):\n",
      " #   Column      Non-Null Count  Dtype  \n",
      "---  ------      --------------  -----  \n",
      " 0   Status      4446 non-null   object \n",
      " 1   Seniority   4446 non-null   int64  \n",
      " 2   Home        4446 non-null   object \n",
      " 3   Time        4446 non-null   int64  \n",
      " 4   Age         4446 non-null   int64  \n",
      " 5   Marital     4446 non-null   object \n",
      " 6   Records     4446 non-null   object \n",
      " 7   Job         4446 non-null   object \n",
      " 8   Expenses    4446 non-null   int64  \n",
      " 9   Income      4446 non-null   int64  \n",
      " 10  Assets      4446 non-null   int64  \n",
      " 11  Debt        4446 non-null   int64  \n",
      " 12  Amount      4446 non-null   int64  \n",
      " 13  Price       4446 non-null   int64  \n",
      " 14  Finrat      4446 non-null   float64\n",
      " 15  Savings     4446 non-null   float64\n",
      " 16  seniorityR  4446 non-null   object \n",
      " 17  timeR       4446 non-null   object \n",
      " 18  ageR        4446 non-null   object \n",
      " 19  expensesR   4446 non-null   object \n",
      " 20  incomeR     4446 non-null   object \n",
      " 21  assetsR     4446 non-null   object \n",
      " 22  debtR       4446 non-null   object \n",
      " 23  amountR     4446 non-null   object \n",
      " 24  priceR      4446 non-null   object \n",
      " 25  finratR     4446 non-null   object \n",
      " 26  savingsR    4446 non-null   object \n",
      "dtypes: float64(2), int64(9), object(16)\n",
      "memory usage: 938.0+ KB\n"
     ]
    }
   ],
   "source": [
    "df.info()\n",
    "# object usually means string\n",
    "# look for data type"
   ]
  },
  {
   "cell_type": "code",
   "execution_count": 12,
   "metadata": {},
   "outputs": [
    {
     "data": {
      "text/plain": [
       "Status           2\n",
       "Seniority       47\n",
       "Home             6\n",
       "Time            11\n",
       "Age             50\n",
       "Marital          5\n",
       "Records          2\n",
       "Job              4\n",
       "Expenses        94\n",
       "Income         364\n",
       "Assets         173\n",
       "Debt           182\n",
       "Amount         285\n",
       "Price         1418\n",
       "Finrat        2861\n",
       "Savings       2471\n",
       "seniorityR       5\n",
       "timeR            5\n",
       "ageR             5\n",
       "expensesR        5\n",
       "incomeR          5\n",
       "assetsR          5\n",
       "debtR            5\n",
       "amountR          5\n",
       "priceR           5\n",
       "finratR          5\n",
       "savingsR         5\n",
       "dtype: int64"
      ]
     },
     "execution_count": 12,
     "metadata": {},
     "output_type": "execute_result"
    }
   ],
   "source": [
    "df.nunique()\n",
    "#which are categorical and which are numeric"
   ]
  },
  {
   "cell_type": "code",
   "execution_count": 13,
   "metadata": {},
   "outputs": [
    {
     "data": {
      "text/html": [
       "<div>\n",
       "<style scoped>\n",
       "    .dataframe tbody tr th:only-of-type {\n",
       "        vertical-align: middle;\n",
       "    }\n",
       "\n",
       "    .dataframe tbody tr th {\n",
       "        vertical-align: top;\n",
       "    }\n",
       "\n",
       "    .dataframe thead th {\n",
       "        text-align: right;\n",
       "    }\n",
       "</style>\n",
       "<table border=\"1\" class=\"dataframe\">\n",
       "  <thead>\n",
       "    <tr style=\"text-align: right;\">\n",
       "      <th></th>\n",
       "      <th>Seniority</th>\n",
       "      <th>Time</th>\n",
       "      <th>Age</th>\n",
       "      <th>Expenses</th>\n",
       "      <th>Income</th>\n",
       "      <th>Assets</th>\n",
       "      <th>Debt</th>\n",
       "      <th>Amount</th>\n",
       "      <th>Price</th>\n",
       "      <th>Finrat</th>\n",
       "      <th>Savings</th>\n",
       "    </tr>\n",
       "  </thead>\n",
       "  <tbody>\n",
       "    <tr>\n",
       "      <th>Seniority</th>\n",
       "      <td>1.000000</td>\n",
       "      <td>-0.021874</td>\n",
       "      <td>0.506089</td>\n",
       "      <td>0.125680</td>\n",
       "      <td>0.121224</td>\n",
       "      <td>0.124241</td>\n",
       "      <td>-0.019347</td>\n",
       "      <td>-0.007639</td>\n",
       "      <td>0.041122</td>\n",
       "      <td>-0.073392</td>\n",
       "      <td>0.093246</td>\n",
       "    </tr>\n",
       "    <tr>\n",
       "      <th>Time</th>\n",
       "      <td>-0.021874</td>\n",
       "      <td>1.000000</td>\n",
       "      <td>-0.051850</td>\n",
       "      <td>-0.001717</td>\n",
       "      <td>-0.029915</td>\n",
       "      <td>-0.083018</td>\n",
       "      <td>0.058267</td>\n",
       "      <td>0.430858</td>\n",
       "      <td>0.129677</td>\n",
       "      <td>0.468641</td>\n",
       "      <td>0.101653</td>\n",
       "    </tr>\n",
       "    <tr>\n",
       "      <th>Age</th>\n",
       "      <td>0.506089</td>\n",
       "      <td>-0.051850</td>\n",
       "      <td>1.000000</td>\n",
       "      <td>0.248137</td>\n",
       "      <td>0.147556</td>\n",
       "      <td>0.180986</td>\n",
       "      <td>-0.046188</td>\n",
       "      <td>0.029031</td>\n",
       "      <td>0.048685</td>\n",
       "      <td>-0.034514</td>\n",
       "      <td>0.062036</td>\n",
       "    </tr>\n",
       "    <tr>\n",
       "      <th>Expenses</th>\n",
       "      <td>0.125680</td>\n",
       "      <td>-0.001717</td>\n",
       "      <td>0.248137</td>\n",
       "      <td>1.000000</td>\n",
       "      <td>0.255005</td>\n",
       "      <td>0.018935</td>\n",
       "      <td>0.014771</td>\n",
       "      <td>0.049539</td>\n",
       "      <td>0.040728</td>\n",
       "      <td>0.024582</td>\n",
       "      <td>-0.038094</td>\n",
       "    </tr>\n",
       "    <tr>\n",
       "      <th>Income</th>\n",
       "      <td>0.121224</td>\n",
       "      <td>-0.029915</td>\n",
       "      <td>0.147556</td>\n",
       "      <td>0.255005</td>\n",
       "      <td>1.000000</td>\n",
       "      <td>0.219112</td>\n",
       "      <td>0.144697</td>\n",
       "      <td>0.190820</td>\n",
       "      <td>0.217789</td>\n",
       "      <td>-0.003407</td>\n",
       "      <td>0.717963</td>\n",
       "    </tr>\n",
       "    <tr>\n",
       "      <th>Assets</th>\n",
       "      <td>0.124241</td>\n",
       "      <td>-0.083018</td>\n",
       "      <td>0.180986</td>\n",
       "      <td>0.018935</td>\n",
       "      <td>0.219112</td>\n",
       "      <td>1.000000</td>\n",
       "      <td>0.191619</td>\n",
       "      <td>0.144284</td>\n",
       "      <td>0.194894</td>\n",
       "      <td>-0.025060</td>\n",
       "      <td>0.067001</td>\n",
       "    </tr>\n",
       "    <tr>\n",
       "      <th>Debt</th>\n",
       "      <td>-0.019347</td>\n",
       "      <td>0.058267</td>\n",
       "      <td>-0.046188</td>\n",
       "      <td>0.014771</td>\n",
       "      <td>0.144697</td>\n",
       "      <td>0.191619</td>\n",
       "      <td>1.000000</td>\n",
       "      <td>0.050902</td>\n",
       "      <td>0.043917</td>\n",
       "      <td>0.008609</td>\n",
       "      <td>0.004990</td>\n",
       "    </tr>\n",
       "    <tr>\n",
       "      <th>Amount</th>\n",
       "      <td>-0.007639</td>\n",
       "      <td>0.430858</td>\n",
       "      <td>0.029031</td>\n",
       "      <td>0.049539</td>\n",
       "      <td>0.190820</td>\n",
       "      <td>0.144284</td>\n",
       "      <td>0.050902</td>\n",
       "      <td>1.000000</td>\n",
       "      <td>0.725025</td>\n",
       "      <td>0.473842</td>\n",
       "      <td>-0.149323</td>\n",
       "    </tr>\n",
       "    <tr>\n",
       "      <th>Price</th>\n",
       "      <td>0.041122</td>\n",
       "      <td>0.129677</td>\n",
       "      <td>0.048685</td>\n",
       "      <td>0.040728</td>\n",
       "      <td>0.217789</td>\n",
       "      <td>0.194894</td>\n",
       "      <td>0.043917</td>\n",
       "      <td>0.725025</td>\n",
       "      <td>1.000000</td>\n",
       "      <td>-0.181348</td>\n",
       "      <td>-0.070361</td>\n",
       "    </tr>\n",
       "    <tr>\n",
       "      <th>Finrat</th>\n",
       "      <td>-0.073392</td>\n",
       "      <td>0.468641</td>\n",
       "      <td>-0.034514</td>\n",
       "      <td>0.024582</td>\n",
       "      <td>-0.003407</td>\n",
       "      <td>-0.025060</td>\n",
       "      <td>0.008609</td>\n",
       "      <td>0.473842</td>\n",
       "      <td>-0.181348</td>\n",
       "      <td>1.000000</td>\n",
       "      <td>-0.123180</td>\n",
       "    </tr>\n",
       "    <tr>\n",
       "      <th>Savings</th>\n",
       "      <td>0.093246</td>\n",
       "      <td>0.101653</td>\n",
       "      <td>0.062036</td>\n",
       "      <td>-0.038094</td>\n",
       "      <td>0.717963</td>\n",
       "      <td>0.067001</td>\n",
       "      <td>0.004990</td>\n",
       "      <td>-0.149323</td>\n",
       "      <td>-0.070361</td>\n",
       "      <td>-0.123180</td>\n",
       "      <td>1.000000</td>\n",
       "    </tr>\n",
       "  </tbody>\n",
       "</table>\n",
       "</div>"
      ],
      "text/plain": [
       "           Seniority      Time       Age  Expenses    Income    Assets  \\\n",
       "Seniority   1.000000 -0.021874  0.506089  0.125680  0.121224  0.124241   \n",
       "Time       -0.021874  1.000000 -0.051850 -0.001717 -0.029915 -0.083018   \n",
       "Age         0.506089 -0.051850  1.000000  0.248137  0.147556  0.180986   \n",
       "Expenses    0.125680 -0.001717  0.248137  1.000000  0.255005  0.018935   \n",
       "Income      0.121224 -0.029915  0.147556  0.255005  1.000000  0.219112   \n",
       "Assets      0.124241 -0.083018  0.180986  0.018935  0.219112  1.000000   \n",
       "Debt       -0.019347  0.058267 -0.046188  0.014771  0.144697  0.191619   \n",
       "Amount     -0.007639  0.430858  0.029031  0.049539  0.190820  0.144284   \n",
       "Price       0.041122  0.129677  0.048685  0.040728  0.217789  0.194894   \n",
       "Finrat     -0.073392  0.468641 -0.034514  0.024582 -0.003407 -0.025060   \n",
       "Savings     0.093246  0.101653  0.062036 -0.038094  0.717963  0.067001   \n",
       "\n",
       "               Debt    Amount     Price    Finrat   Savings  \n",
       "Seniority -0.019347 -0.007639  0.041122 -0.073392  0.093246  \n",
       "Time       0.058267  0.430858  0.129677  0.468641  0.101653  \n",
       "Age       -0.046188  0.029031  0.048685 -0.034514  0.062036  \n",
       "Expenses   0.014771  0.049539  0.040728  0.024582 -0.038094  \n",
       "Income     0.144697  0.190820  0.217789 -0.003407  0.717963  \n",
       "Assets     0.191619  0.144284  0.194894 -0.025060  0.067001  \n",
       "Debt       1.000000  0.050902  0.043917  0.008609  0.004990  \n",
       "Amount     0.050902  1.000000  0.725025  0.473842 -0.149323  \n",
       "Price      0.043917  0.725025  1.000000 -0.181348 -0.070361  \n",
       "Finrat     0.008609  0.473842 -0.181348  1.000000 -0.123180  \n",
       "Savings    0.004990 -0.149323 -0.070361 -0.123180  1.000000  "
      ]
     },
     "execution_count": 13,
     "metadata": {},
     "output_type": "execute_result"
    }
   ],
   "source": [
    "df.corr()\n",
    "# only works with numeric values\n",
    "# type object will not appear in correlation"
   ]
  },
  {
   "cell_type": "code",
   "execution_count": 14,
   "metadata": {},
   "outputs": [],
   "source": [
    "# Basic Data Cleaning\n",
    "\n",
    "#make column headings lowercase and replace spaces with '_'\n",
    "df.columns = df.columns.str.lower().str.replace(' ', '_') # A\n",
    " \n",
    "string_columns = list(df.dtypes[df.dtypes == 'object'].index) # B\n",
    " \n",
    "for col in string_columns:\n",
    "    df[col] = df[col].str.lower().str.replace(' ', '_') # C"
   ]
  },
  {
   "cell_type": "code",
   "execution_count": null,
   "metadata": {},
   "outputs": [],
   "source": [
    "# MAKE SURE THAT YOU WRANGLE YOUR DATA.  THIS IS AN EXAMPLE OF THE TYPES OF THINGS THAT ARE NEEDED\n",
    "# SKIP THIS CEL - IT IS ONLY TO REITERATE THE NEED TO CLEAN \n",
    "# For instance - in the CreditScoring dataset - there are numerous 99999999 that need to be replaced\n",
    "# Obviously don't run this with your dataset\n",
    "# for c in ['income', 'assets', 'debt']:\n",
    "#    df[c] = df[c].replace(to_replace=99999999, value=np.nan)\n",
    "#df = df[df.status != 'unk']   # Also make sure to treat the target variable"
   ]
  },
  {
   "cell_type": "code",
   "execution_count": 15,
   "metadata": {},
   "outputs": [
    {
     "data": {
      "text/html": [
       "<div>\n",
       "<style scoped>\n",
       "    .dataframe tbody tr th:only-of-type {\n",
       "        vertical-align: middle;\n",
       "    }\n",
       "\n",
       "    .dataframe tbody tr th {\n",
       "        vertical-align: top;\n",
       "    }\n",
       "\n",
       "    .dataframe thead th {\n",
       "        text-align: right;\n",
       "    }\n",
       "</style>\n",
       "<table border=\"1\" class=\"dataframe\">\n",
       "  <thead>\n",
       "    <tr style=\"text-align: right;\">\n",
       "      <th></th>\n",
       "      <th>status</th>\n",
       "      <th>seniority</th>\n",
       "      <th>home</th>\n",
       "      <th>time</th>\n",
       "      <th>age</th>\n",
       "      <th>marital</th>\n",
       "      <th>records</th>\n",
       "      <th>job</th>\n",
       "      <th>expenses</th>\n",
       "      <th>income</th>\n",
       "      <th>...</th>\n",
       "      <th>timer</th>\n",
       "      <th>ager</th>\n",
       "      <th>expensesr</th>\n",
       "      <th>incomer</th>\n",
       "      <th>assetsr</th>\n",
       "      <th>debtr</th>\n",
       "      <th>amountr</th>\n",
       "      <th>pricer</th>\n",
       "      <th>finratr</th>\n",
       "      <th>savingsr</th>\n",
       "    </tr>\n",
       "  </thead>\n",
       "  <tbody>\n",
       "    <tr>\n",
       "      <th>0</th>\n",
       "      <td>good</td>\n",
       "      <td>9</td>\n",
       "      <td>rent</td>\n",
       "      <td>60</td>\n",
       "      <td>30</td>\n",
       "      <td>married</td>\n",
       "      <td>no_rec</td>\n",
       "      <td>freelance</td>\n",
       "      <td>73</td>\n",
       "      <td>129</td>\n",
       "      <td>...</td>\n",
       "      <td>time_(48,99]</td>\n",
       "      <td>age_(25,30]</td>\n",
       "      <td>exp_(60,80]</td>\n",
       "      <td>inc_(110,140]</td>\n",
       "      <td>asset_(-1,0]</td>\n",
       "      <td>debt_(-1,0]</td>\n",
       "      <td>am_(600,900]</td>\n",
       "      <td>priz_(0,1e+03]</td>\n",
       "      <td>finr_(90,100]</td>\n",
       "      <td>sav_(4,6]</td>\n",
       "    </tr>\n",
       "    <tr>\n",
       "      <th>1</th>\n",
       "      <td>good</td>\n",
       "      <td>17</td>\n",
       "      <td>rent</td>\n",
       "      <td>60</td>\n",
       "      <td>58</td>\n",
       "      <td>widow</td>\n",
       "      <td>no_rec</td>\n",
       "      <td>fixed</td>\n",
       "      <td>48</td>\n",
       "      <td>131</td>\n",
       "      <td>...</td>\n",
       "      <td>time_(48,99]</td>\n",
       "      <td>age_(50,99]</td>\n",
       "      <td>exp_(40,50]</td>\n",
       "      <td>inc_(110,140]</td>\n",
       "      <td>asset_(-1,0]</td>\n",
       "      <td>debt_(-1,0]</td>\n",
       "      <td>am_(900,1.1e+03]</td>\n",
       "      <td>priz_(1.5e+03,1.8e+03]</td>\n",
       "      <td>finr_(50,70]</td>\n",
       "      <td>sav_(4,6]</td>\n",
       "    </tr>\n",
       "    <tr>\n",
       "      <th>2</th>\n",
       "      <td>bad</td>\n",
       "      <td>10</td>\n",
       "      <td>owner</td>\n",
       "      <td>36</td>\n",
       "      <td>46</td>\n",
       "      <td>married</td>\n",
       "      <td>yes_rec</td>\n",
       "      <td>freelance</td>\n",
       "      <td>90</td>\n",
       "      <td>200</td>\n",
       "      <td>...</td>\n",
       "      <td>time_(24,36]</td>\n",
       "      <td>age_(40,50]</td>\n",
       "      <td>exp_(80,1e+04]</td>\n",
       "      <td>inc_(190,1e+04]</td>\n",
       "      <td>asset_(0,3e+03]</td>\n",
       "      <td>debt_(-1,0]</td>\n",
       "      <td>am_(1.4e+03,1e+05]</td>\n",
       "      <td>priz_(1.8e+03,1e+05]</td>\n",
       "      <td>finr_(50,70]</td>\n",
       "      <td>sav_(0,2]</td>\n",
       "    </tr>\n",
       "    <tr>\n",
       "      <th>3</th>\n",
       "      <td>good</td>\n",
       "      <td>0</td>\n",
       "      <td>rent</td>\n",
       "      <td>60</td>\n",
       "      <td>24</td>\n",
       "      <td>single</td>\n",
       "      <td>no_rec</td>\n",
       "      <td>fixed</td>\n",
       "      <td>63</td>\n",
       "      <td>182</td>\n",
       "      <td>...</td>\n",
       "      <td>time_(48,99]</td>\n",
       "      <td>age_(0,25]</td>\n",
       "      <td>exp_(60,80]</td>\n",
       "      <td>inc_(140,190]</td>\n",
       "      <td>asset_(0,3e+03]</td>\n",
       "      <td>debt_(-1,0]</td>\n",
       "      <td>am_(600,900]</td>\n",
       "      <td>priz_(1.3e+03,1.5e+03]</td>\n",
       "      <td>finr_(50,70]</td>\n",
       "      <td>sav_(6,99]</td>\n",
       "    </tr>\n",
       "    <tr>\n",
       "      <th>4</th>\n",
       "      <td>good</td>\n",
       "      <td>0</td>\n",
       "      <td>rent</td>\n",
       "      <td>36</td>\n",
       "      <td>26</td>\n",
       "      <td>single</td>\n",
       "      <td>no_rec</td>\n",
       "      <td>fixed</td>\n",
       "      <td>46</td>\n",
       "      <td>107</td>\n",
       "      <td>...</td>\n",
       "      <td>time_(24,36]</td>\n",
       "      <td>age_(25,30]</td>\n",
       "      <td>exp_(40,50]</td>\n",
       "      <td>inc_(80,110]</td>\n",
       "      <td>asset_(-1,0]</td>\n",
       "      <td>debt_(-1,0]</td>\n",
       "      <td>am_(0,600]</td>\n",
       "      <td>priz_(0,1e+03]</td>\n",
       "      <td>finr_(0,50]</td>\n",
       "      <td>sav_(6,99]</td>\n",
       "    </tr>\n",
       "  </tbody>\n",
       "</table>\n",
       "<p>5 rows × 27 columns</p>\n",
       "</div>"
      ],
      "text/plain": [
       "  status  seniority   home  time  age  marital  records        job  expenses  \\\n",
       "0   good          9   rent    60   30  married   no_rec  freelance        73   \n",
       "1   good         17   rent    60   58    widow   no_rec      fixed        48   \n",
       "2    bad         10  owner    36   46  married  yes_rec  freelance        90   \n",
       "3   good          0   rent    60   24   single   no_rec      fixed        63   \n",
       "4   good          0   rent    36   26   single   no_rec      fixed        46   \n",
       "\n",
       "   income  ...         timer         ager       expensesr          incomer  \\\n",
       "0     129  ...  time_(48,99]  age_(25,30]     exp_(60,80]    inc_(110,140]   \n",
       "1     131  ...  time_(48,99]  age_(50,99]     exp_(40,50]    inc_(110,140]   \n",
       "2     200  ...  time_(24,36]  age_(40,50]  exp_(80,1e+04]  inc_(190,1e+04]   \n",
       "3     182  ...  time_(48,99]   age_(0,25]     exp_(60,80]    inc_(140,190]   \n",
       "4     107  ...  time_(24,36]  age_(25,30]     exp_(40,50]     inc_(80,110]   \n",
       "\n",
       "           assetsr        debtr             amountr                  pricer  \\\n",
       "0     asset_(-1,0]  debt_(-1,0]        am_(600,900]          priz_(0,1e+03]   \n",
       "1     asset_(-1,0]  debt_(-1,0]    am_(900,1.1e+03]  priz_(1.5e+03,1.8e+03]   \n",
       "2  asset_(0,3e+03]  debt_(-1,0]  am_(1.4e+03,1e+05]    priz_(1.8e+03,1e+05]   \n",
       "3  asset_(0,3e+03]  debt_(-1,0]        am_(600,900]  priz_(1.3e+03,1.5e+03]   \n",
       "4     asset_(-1,0]  debt_(-1,0]          am_(0,600]          priz_(0,1e+03]   \n",
       "\n",
       "         finratr    savingsr  \n",
       "0  finr_(90,100]   sav_(4,6]  \n",
       "1   finr_(50,70]   sav_(4,6]  \n",
       "2   finr_(50,70]   sav_(0,2]  \n",
       "3   finr_(50,70]  sav_(6,99]  \n",
       "4    finr_(0,50]  sav_(6,99]  \n",
       "\n",
       "[5 rows x 27 columns]"
      ]
     },
     "execution_count": 15,
     "metadata": {},
     "output_type": "execute_result"
    }
   ],
   "source": [
    "df.head()"
   ]
  },
  {
   "cell_type": "code",
   "execution_count": 16,
   "metadata": {},
   "outputs": [
    {
     "data": {
      "text/html": [
       "<div>\n",
       "<style scoped>\n",
       "    .dataframe tbody tr th:only-of-type {\n",
       "        vertical-align: middle;\n",
       "    }\n",
       "\n",
       "    .dataframe tbody tr th {\n",
       "        vertical-align: top;\n",
       "    }\n",
       "\n",
       "    .dataframe thead th {\n",
       "        text-align: right;\n",
       "    }\n",
       "</style>\n",
       "<table border=\"1\" class=\"dataframe\">\n",
       "  <thead>\n",
       "    <tr style=\"text-align: right;\">\n",
       "      <th></th>\n",
       "      <th>0</th>\n",
       "      <th>1</th>\n",
       "      <th>2</th>\n",
       "      <th>3</th>\n",
       "      <th>4</th>\n",
       "    </tr>\n",
       "  </thead>\n",
       "  <tbody>\n",
       "    <tr>\n",
       "      <th>status</th>\n",
       "      <td>good</td>\n",
       "      <td>good</td>\n",
       "      <td>bad</td>\n",
       "      <td>good</td>\n",
       "      <td>good</td>\n",
       "    </tr>\n",
       "    <tr>\n",
       "      <th>seniority</th>\n",
       "      <td>9</td>\n",
       "      <td>17</td>\n",
       "      <td>10</td>\n",
       "      <td>0</td>\n",
       "      <td>0</td>\n",
       "    </tr>\n",
       "    <tr>\n",
       "      <th>home</th>\n",
       "      <td>rent</td>\n",
       "      <td>rent</td>\n",
       "      <td>owner</td>\n",
       "      <td>rent</td>\n",
       "      <td>rent</td>\n",
       "    </tr>\n",
       "    <tr>\n",
       "      <th>time</th>\n",
       "      <td>60</td>\n",
       "      <td>60</td>\n",
       "      <td>36</td>\n",
       "      <td>60</td>\n",
       "      <td>36</td>\n",
       "    </tr>\n",
       "    <tr>\n",
       "      <th>age</th>\n",
       "      <td>30</td>\n",
       "      <td>58</td>\n",
       "      <td>46</td>\n",
       "      <td>24</td>\n",
       "      <td>26</td>\n",
       "    </tr>\n",
       "    <tr>\n",
       "      <th>marital</th>\n",
       "      <td>married</td>\n",
       "      <td>widow</td>\n",
       "      <td>married</td>\n",
       "      <td>single</td>\n",
       "      <td>single</td>\n",
       "    </tr>\n",
       "    <tr>\n",
       "      <th>records</th>\n",
       "      <td>no_rec</td>\n",
       "      <td>no_rec</td>\n",
       "      <td>yes_rec</td>\n",
       "      <td>no_rec</td>\n",
       "      <td>no_rec</td>\n",
       "    </tr>\n",
       "    <tr>\n",
       "      <th>job</th>\n",
       "      <td>freelance</td>\n",
       "      <td>fixed</td>\n",
       "      <td>freelance</td>\n",
       "      <td>fixed</td>\n",
       "      <td>fixed</td>\n",
       "    </tr>\n",
       "    <tr>\n",
       "      <th>expenses</th>\n",
       "      <td>73</td>\n",
       "      <td>48</td>\n",
       "      <td>90</td>\n",
       "      <td>63</td>\n",
       "      <td>46</td>\n",
       "    </tr>\n",
       "    <tr>\n",
       "      <th>income</th>\n",
       "      <td>129</td>\n",
       "      <td>131</td>\n",
       "      <td>200</td>\n",
       "      <td>182</td>\n",
       "      <td>107</td>\n",
       "    </tr>\n",
       "    <tr>\n",
       "      <th>assets</th>\n",
       "      <td>0</td>\n",
       "      <td>0</td>\n",
       "      <td>3000</td>\n",
       "      <td>2500</td>\n",
       "      <td>0</td>\n",
       "    </tr>\n",
       "    <tr>\n",
       "      <th>debt</th>\n",
       "      <td>0</td>\n",
       "      <td>0</td>\n",
       "      <td>0</td>\n",
       "      <td>0</td>\n",
       "      <td>0</td>\n",
       "    </tr>\n",
       "    <tr>\n",
       "      <th>amount</th>\n",
       "      <td>800</td>\n",
       "      <td>1000</td>\n",
       "      <td>2000</td>\n",
       "      <td>900</td>\n",
       "      <td>310</td>\n",
       "    </tr>\n",
       "    <tr>\n",
       "      <th>price</th>\n",
       "      <td>846</td>\n",
       "      <td>1658</td>\n",
       "      <td>2985</td>\n",
       "      <td>1325</td>\n",
       "      <td>910</td>\n",
       "    </tr>\n",
       "    <tr>\n",
       "      <th>finrat</th>\n",
       "      <td>94.5626</td>\n",
       "      <td>60.3136</td>\n",
       "      <td>67.0017</td>\n",
       "      <td>67.9245</td>\n",
       "      <td>34.0659</td>\n",
       "    </tr>\n",
       "    <tr>\n",
       "      <th>savings</th>\n",
       "      <td>4.2</td>\n",
       "      <td>4.98</td>\n",
       "      <td>1.98</td>\n",
       "      <td>7.93333</td>\n",
       "      <td>7.08387</td>\n",
       "    </tr>\n",
       "    <tr>\n",
       "      <th>seniorityr</th>\n",
       "      <td>sen_(8,14]</td>\n",
       "      <td>sen_(14,99]</td>\n",
       "      <td>sen_(8,14]</td>\n",
       "      <td>sen_(-1,1]</td>\n",
       "      <td>sen_(-1,1]</td>\n",
       "    </tr>\n",
       "    <tr>\n",
       "      <th>timer</th>\n",
       "      <td>time_(48,99]</td>\n",
       "      <td>time_(48,99]</td>\n",
       "      <td>time_(24,36]</td>\n",
       "      <td>time_(48,99]</td>\n",
       "      <td>time_(24,36]</td>\n",
       "    </tr>\n",
       "    <tr>\n",
       "      <th>ager</th>\n",
       "      <td>age_(25,30]</td>\n",
       "      <td>age_(50,99]</td>\n",
       "      <td>age_(40,50]</td>\n",
       "      <td>age_(0,25]</td>\n",
       "      <td>age_(25,30]</td>\n",
       "    </tr>\n",
       "    <tr>\n",
       "      <th>expensesr</th>\n",
       "      <td>exp_(60,80]</td>\n",
       "      <td>exp_(40,50]</td>\n",
       "      <td>exp_(80,1e+04]</td>\n",
       "      <td>exp_(60,80]</td>\n",
       "      <td>exp_(40,50]</td>\n",
       "    </tr>\n",
       "    <tr>\n",
       "      <th>incomer</th>\n",
       "      <td>inc_(110,140]</td>\n",
       "      <td>inc_(110,140]</td>\n",
       "      <td>inc_(190,1e+04]</td>\n",
       "      <td>inc_(140,190]</td>\n",
       "      <td>inc_(80,110]</td>\n",
       "    </tr>\n",
       "    <tr>\n",
       "      <th>assetsr</th>\n",
       "      <td>asset_(-1,0]</td>\n",
       "      <td>asset_(-1,0]</td>\n",
       "      <td>asset_(0,3e+03]</td>\n",
       "      <td>asset_(0,3e+03]</td>\n",
       "      <td>asset_(-1,0]</td>\n",
       "    </tr>\n",
       "    <tr>\n",
       "      <th>debtr</th>\n",
       "      <td>debt_(-1,0]</td>\n",
       "      <td>debt_(-1,0]</td>\n",
       "      <td>debt_(-1,0]</td>\n",
       "      <td>debt_(-1,0]</td>\n",
       "      <td>debt_(-1,0]</td>\n",
       "    </tr>\n",
       "    <tr>\n",
       "      <th>amountr</th>\n",
       "      <td>am_(600,900]</td>\n",
       "      <td>am_(900,1.1e+03]</td>\n",
       "      <td>am_(1.4e+03,1e+05]</td>\n",
       "      <td>am_(600,900]</td>\n",
       "      <td>am_(0,600]</td>\n",
       "    </tr>\n",
       "    <tr>\n",
       "      <th>pricer</th>\n",
       "      <td>priz_(0,1e+03]</td>\n",
       "      <td>priz_(1.5e+03,1.8e+03]</td>\n",
       "      <td>priz_(1.8e+03,1e+05]</td>\n",
       "      <td>priz_(1.3e+03,1.5e+03]</td>\n",
       "      <td>priz_(0,1e+03]</td>\n",
       "    </tr>\n",
       "    <tr>\n",
       "      <th>finratr</th>\n",
       "      <td>finr_(90,100]</td>\n",
       "      <td>finr_(50,70]</td>\n",
       "      <td>finr_(50,70]</td>\n",
       "      <td>finr_(50,70]</td>\n",
       "      <td>finr_(0,50]</td>\n",
       "    </tr>\n",
       "    <tr>\n",
       "      <th>savingsr</th>\n",
       "      <td>sav_(4,6]</td>\n",
       "      <td>sav_(4,6]</td>\n",
       "      <td>sav_(0,2]</td>\n",
       "      <td>sav_(6,99]</td>\n",
       "      <td>sav_(6,99]</td>\n",
       "    </tr>\n",
       "  </tbody>\n",
       "</table>\n",
       "</div>"
      ],
      "text/plain": [
       "                         0                       1                     2  \\\n",
       "status                good                    good                   bad   \n",
       "seniority                9                      17                    10   \n",
       "home                  rent                    rent                 owner   \n",
       "time                    60                      60                    36   \n",
       "age                     30                      58                    46   \n",
       "marital            married                   widow               married   \n",
       "records             no_rec                  no_rec               yes_rec   \n",
       "job              freelance                   fixed             freelance   \n",
       "expenses                73                      48                    90   \n",
       "income                 129                     131                   200   \n",
       "assets                   0                       0                  3000   \n",
       "debt                     0                       0                     0   \n",
       "amount                 800                    1000                  2000   \n",
       "price                  846                    1658                  2985   \n",
       "finrat             94.5626                 60.3136               67.0017   \n",
       "savings                4.2                    4.98                  1.98   \n",
       "seniorityr      sen_(8,14]             sen_(14,99]            sen_(8,14]   \n",
       "timer         time_(48,99]            time_(48,99]          time_(24,36]   \n",
       "ager           age_(25,30]             age_(50,99]           age_(40,50]   \n",
       "expensesr      exp_(60,80]             exp_(40,50]        exp_(80,1e+04]   \n",
       "incomer      inc_(110,140]           inc_(110,140]       inc_(190,1e+04]   \n",
       "assetsr       asset_(-1,0]            asset_(-1,0]       asset_(0,3e+03]   \n",
       "debtr          debt_(-1,0]             debt_(-1,0]           debt_(-1,0]   \n",
       "amountr       am_(600,900]        am_(900,1.1e+03]    am_(1.4e+03,1e+05]   \n",
       "pricer      priz_(0,1e+03]  priz_(1.5e+03,1.8e+03]  priz_(1.8e+03,1e+05]   \n",
       "finratr      finr_(90,100]            finr_(50,70]          finr_(50,70]   \n",
       "savingsr         sav_(4,6]               sav_(4,6]             sav_(0,2]   \n",
       "\n",
       "                                 3               4  \n",
       "status                        good            good  \n",
       "seniority                        0               0  \n",
       "home                          rent            rent  \n",
       "time                            60              36  \n",
       "age                             24              26  \n",
       "marital                     single          single  \n",
       "records                     no_rec          no_rec  \n",
       "job                          fixed           fixed  \n",
       "expenses                        63              46  \n",
       "income                         182             107  \n",
       "assets                        2500               0  \n",
       "debt                             0               0  \n",
       "amount                         900             310  \n",
       "price                         1325             910  \n",
       "finrat                     67.9245         34.0659  \n",
       "savings                    7.93333         7.08387  \n",
       "seniorityr              sen_(-1,1]      sen_(-1,1]  \n",
       "timer                 time_(48,99]    time_(24,36]  \n",
       "ager                    age_(0,25]     age_(25,30]  \n",
       "expensesr              exp_(60,80]     exp_(40,50]  \n",
       "incomer              inc_(140,190]    inc_(80,110]  \n",
       "assetsr            asset_(0,3e+03]    asset_(-1,0]  \n",
       "debtr                  debt_(-1,0]     debt_(-1,0]  \n",
       "amountr               am_(600,900]      am_(0,600]  \n",
       "pricer      priz_(1.3e+03,1.5e+03]  priz_(0,1e+03]  \n",
       "finratr               finr_(50,70]     finr_(0,50]  \n",
       "savingsr                sav_(6,99]      sav_(6,99]  "
      ]
     },
     "execution_count": 16,
     "metadata": {},
     "output_type": "execute_result"
    }
   ],
   "source": [
    "df.head().T\n",
    "# df.sample(4).T --> sample of data, NOT first 4"
   ]
  },
  {
   "cell_type": "markdown",
   "metadata": {},
   "source": [
    "### Create Visuals so you can gain a business understanding of your data"
   ]
  },
  {
   "cell_type": "code",
   "execution_count": 17,
   "metadata": {},
   "outputs": [
    {
     "data": {
      "image/png": "[encoded data removed]",
      "text/plain": [
       "<Figure size 432x288 with 1 Axes>"
      ]
     },
     "metadata": {
      "needs_background": "light"
     },
     "output_type": "display_data"
    }
   ],
   "source": [
    "# Replace with your target variable --- df.YOUR_TARGET_VARIABLE  \n",
    "# Look for major data imbalances\n",
    "# Also replace your X label\n",
    "# REPLACE YOUR TARGET VARIABLE\n",
    "plt.figure(figsize=(6, 4))\n",
    "\n",
    "sns.histplot(df.status, bins=40, color='black', alpha=1)\n",
    "plt.ylabel('Frequency')\n",
    "plt.xlabel('status')\n",
    "plt.title('status')\n",
    "\n",
    "plt.show()"
   ]
  },
  {
   "cell_type": "markdown",
   "metadata": {},
   "source": [
    "## Notes\n",
    "* (1) Check for NaN under a single DataFrame column:\n",
    "\n",
    "* `df['your column name'].isnull().values.any()`\n",
    "\n",
    "* (2) Count the NaN under a single DataFrame column:\n",
    "\n",
    "`df['your column name'].isnull().sum()`\n",
    "\n",
    "* (3) Check for NaN under an entire DataFrame:\n",
    "\n",
    "`df.isnull().values.any()`\n",
    "\n",
    "* (4) Count the NaN under an entire DataFrame:\n",
    "\n",
    "`df.isnull().sum().sum()`"
   ]
  },
  {
   "cell_type": "code",
   "execution_count": 18,
   "metadata": {},
   "outputs": [
    {
     "data": {
      "text/plain": [
       "status        0\n",
       "seniority     0\n",
       "home          0\n",
       "time          0\n",
       "age           0\n",
       "marital       0\n",
       "records       0\n",
       "job           0\n",
       "expenses      0\n",
       "income        0\n",
       "assets        0\n",
       "debt          0\n",
       "amount        0\n",
       "price         0\n",
       "finrat        0\n",
       "savings       0\n",
       "seniorityr    0\n",
       "timer         0\n",
       "ager          0\n",
       "expensesr     0\n",
       "incomer       0\n",
       "assetsr       0\n",
       "debtr         0\n",
       "amountr       0\n",
       "pricer        0\n",
       "finratr       0\n",
       "savingsr      0\n",
       "dtype: int64"
      ]
     },
     "execution_count": 18,
     "metadata": {},
     "output_type": "execute_result"
    }
   ],
   "source": [
    "# Check for nulls --- you do NOT want nulls when you train\n",
    "df.isnull().sum()"
   ]
  },
  {
   "cell_type": "code",
   "execution_count": 19,
   "metadata": {},
   "outputs": [
    {
     "data": {
      "text/plain": [
       "status        0.0\n",
       "seniority     0.0\n",
       "home          0.0\n",
       "time          0.0\n",
       "age           0.0\n",
       "marital       0.0\n",
       "records       0.0\n",
       "job           0.0\n",
       "expenses      0.0\n",
       "income        0.0\n",
       "assets        0.0\n",
       "debt          0.0\n",
       "amount        0.0\n",
       "price         0.0\n",
       "finrat        0.0\n",
       "savings       0.0\n",
       "seniorityr    0.0\n",
       "timer         0.0\n",
       "ager          0.0\n",
       "expensesr     0.0\n",
       "incomer       0.0\n",
       "assetsr       0.0\n",
       "debtr         0.0\n",
       "amountr       0.0\n",
       "pricer        0.0\n",
       "finratr       0.0\n",
       "savingsr      0.0\n",
       "dtype: float64"
      ]
     },
     "execution_count": 19,
     "metadata": {},
     "output_type": "execute_result"
    }
   ],
   "source": [
    "# Check for the percentage of missing values\n",
    "df.isnull().sum() / df.shape[0] * 100"
   ]
  },
  {
   "cell_type": "code",
   "execution_count": 20,
   "metadata": {},
   "outputs": [
    {
     "data": {
      "text/plain": [
       "good    3197\n",
       "bad     1249\n",
       "Name: status, dtype: int64"
      ]
     },
     "execution_count": 20,
     "metadata": {},
     "output_type": "execute_result"
    }
   ],
   "source": [
    "#check Value Counts\n",
    "# df.\"REPLACE WITH FIELD NAME\".value_counts()\n",
    "df.status.value_counts()"
   ]
  },
  {
   "cell_type": "code",
   "execution_count": null,
   "metadata": {},
   "outputs": [],
   "source": [
    "df.head()"
   ]
  },
  {
   "cell_type": "code",
   "execution_count": null,
   "metadata": {},
   "outputs": [],
   "source": [
    "#delete columns --- this may or may NOT be needed.  As before - skip if you don't need it\n",
    "# You will encounter times where you will want to delete columns.  This is how you do that.\n",
    "# df = df.drop(['x5_latitude', 'x6_longitude', 'x1_transaction_date'], axis=1)\n",
    "# df"
   ]
  },
  {
   "cell_type": "code",
   "execution_count": null,
   "metadata": {},
   "outputs": [],
   "source": [
    "# Split Data\n",
    "# i.e.:  address = London, UK\n",
    "# df[['city', 'country']] = df['address'].str.split(',', expand=True)"
   ]
  },
  {
   "cell_type": "code",
   "execution_count": null,
   "metadata": {},
   "outputs": [],
   "source": [
    "# Change any Data Types\n",
    "#Replace Data Types to Integer\n",
    "# df[\"Customer Number\"] = df['Customer Number'].astype('int')\n",
    "#Replace Data Types to String\n",
    "# df[\"Customer Number\"] = df['Customer Number'].astype('str')\n",
    "#Replace Data Types to Boolean\n",
    "# df[\"IsPurchased\"] = df['IsPurchased'].astype('bool')\n",
    "#Replace Data Types to Float\n",
    "# df[\"Total Spend\"] = df['Total Spend'].astype('float')\n",
    "#Replace Data Types to Datetime with format= '%Y%m%d'\n",
    "# df['Dates'] = pd.to_datetime(df['Dates'], format='%Y%m%d')"
   ]
  },
  {
   "cell_type": "code",
   "execution_count": null,
   "metadata": {},
   "outputs": [],
   "source": []
  },
  {
   "cell_type": "markdown",
   "metadata": {},
   "source": [
    "## Univariate Analysis"
   ]
  },
  {
   "cell_type": "code",
   "execution_count": 23,
   "metadata": {},
   "outputs": [
    {
     "data": {
      "text/plain": [
       "<seaborn.axisgrid.FacetGrid at 0x7fbd2a1caf70>"
      ]
     },
     "execution_count": 23,
     "metadata": {},
     "output_type": "execute_result"
    },
    {
     "data": {
      "image/png": "[encoded data removed]",
      "text/plain": [
       "<Figure size 360x360 with 1 Axes>"
      ]
     },
     "metadata": {
      "needs_background": "light"
     },
     "output_type": "display_data"
    }
   ],
   "source": [
    "## STICK TO CATEGORICAL COLUMNS INITIALLY\n",
    "#plot the histogram to see the distribution of the point data.\n",
    "sns.displot(data=df, x=\"status\")"
   ]
  },
  {
   "cell_type": "code",
   "execution_count": 24,
   "metadata": {},
   "outputs": [
    {
     "data": {
      "text/plain": [
       "<AxesSubplot:xlabel='status', ylabel='count'>"
      ]
     },
     "execution_count": 24,
     "metadata": {},
     "output_type": "execute_result"
    },
    {
     "data": {
      "image/png": "[encoded data removed]",
      "text/plain": [
       "<Figure size 432x288 with 1 Axes>"
      ]
     },
     "metadata": {
      "needs_background": "light"
     },
     "output_type": "display_data"
    }
   ],
   "source": [
    "sns.countplot(x=\"status\", data=df)"
   ]
  },
  {
   "cell_type": "code",
   "execution_count": 25,
   "metadata": {},
   "outputs": [
    {
     "data": {
      "text/plain": [
       "good    3197\n",
       "bad     1249\n",
       "Name: status, dtype: int64"
      ]
     },
     "execution_count": 25,
     "metadata": {},
     "output_type": "execute_result"
    }
   ],
   "source": [
    "df['status'].value_counts()"
   ]
  },
  {
   "cell_type": "code",
   "execution_count": 28,
   "metadata": {},
   "outputs": [],
   "source": [
    "#measure its skewness and kurtosis\n",
    "df['status'].agg(['skew', 'kurtosis']).transpose()"
   ]
  },
  {
   "cell_type": "code",
   "execution_count": 32,
   "metadata": {},
   "outputs": [
    {
     "data": {
      "image/png": "[encoded data removed]",
      "text/plain": [
       "<Figure size 432x288 with 1 Axes>"
      ]
     },
     "metadata": {
      "needs_background": "light"
     },
     "output_type": "display_data"
    }
   ],
   "source": [
    "#check for outliers\n",
    "ax = sns.boxplot(x=df[\"age\"])"
   ]
  },
  {
   "cell_type": "markdown",
   "metadata": {},
   "source": [
    "![image info](https://miro.medium.com/max/1400/1*_aN1iaiVUTdoyPbyj-kVjA.jpeg)"
   ]
  },
  {
   "cell_type": "markdown",
   "metadata": {},
   "source": [
    "## Bivariate Analysis"
   ]
  },
  {
   "cell_type": "code",
   "execution_count": 36,
   "metadata": {},
   "outputs": [
    {
     "data": {
      "image/png": "[encoded data removed]",
      "text/plain": [
       "<Figure size 1080x720 with 1 Axes>"
      ]
     },
     "metadata": {},
     "output_type": "display_data"
    }
   ],
   "source": [
    "# Pick 2 variables to compare and replace SEX and DEFAULT WITH THE TWO VARIABLES\n",
    "# Stick with Categorical variables for now\n",
    "sns.set(rc={'figure.figsize':(15,10)})\n",
    "edu = sns.countplot(x='marital', hue='status', data=df)\n",
    "# edu.set_xticklabels(['Male','Female'])\n",
    "plt.show()"
   ]
  },
  {
   "cell_type": "code",
   "execution_count": 37,
   "metadata": {},
   "outputs": [
    {
     "ename": "AttributeError",
     "evalue": "'DataFrame' object has no attribute 'SEX'",
     "output_type": "error",
     "traceback": [
      "\u001b[0;31m---------------------------------------------------------------------------\u001b[0m",
      "\u001b[0;31mAttributeError\u001b[0m                            Traceback (most recent call last)",
      "\u001b[0;32m<ipython-input-37-e78666b1dc36>\u001b[0m in \u001b[0;36m<module>\u001b[0;34m\u001b[0m\n\u001b[1;32m      1\u001b[0m \u001b[0;31m# Evaluate the Cross Tab\u001b[0m\u001b[0;34m\u001b[0m\u001b[0;34m\u001b[0m\u001b[0;34m\u001b[0m\u001b[0m\n\u001b[0;32m----> 2\u001b[0;31m \u001b[0mpd\u001b[0m\u001b[0;34m.\u001b[0m\u001b[0mcrosstab\u001b[0m\u001b[0;34m(\u001b[0m\u001b[0mdf\u001b[0m\u001b[0;34m.\u001b[0m\u001b[0mSEX\u001b[0m\u001b[0;34m,\u001b[0m\u001b[0mdf\u001b[0m\u001b[0;34m.\u001b[0m\u001b[0mDEFAULT\u001b[0m\u001b[0;34m,\u001b[0m\u001b[0mnormalize\u001b[0m\u001b[0;34m=\u001b[0m\u001b[0;34m'index'\u001b[0m\u001b[0;34m,\u001b[0m\u001b[0mmargins\u001b[0m\u001b[0;34m=\u001b[0m\u001b[0;32mTrue\u001b[0m\u001b[0;34m)\u001b[0m\u001b[0;34m\u001b[0m\u001b[0;34m\u001b[0m\u001b[0m\n\u001b[0m",
      "\u001b[0;32m/opt/conda/lib/python3.8/site-packages/pandas/core/generic.py\u001b[0m in \u001b[0;36m__getattr__\u001b[0;34m(self, name)\u001b[0m\n\u001b[1;32m   5137\u001b[0m             \u001b[0;32mif\u001b[0m \u001b[0mself\u001b[0m\u001b[0;34m.\u001b[0m\u001b[0m_info_axis\u001b[0m\u001b[0;34m.\u001b[0m\u001b[0m_can_hold_identifiers_and_holds_name\u001b[0m\u001b[0;34m(\u001b[0m\u001b[0mname\u001b[0m\u001b[0;34m)\u001b[0m\u001b[0;34m:\u001b[0m\u001b[0;34m\u001b[0m\u001b[0;34m\u001b[0m\u001b[0m\n\u001b[1;32m   5138\u001b[0m                 \u001b[0;32mreturn\u001b[0m \u001b[0mself\u001b[0m\u001b[0;34m[\u001b[0m\u001b[0mname\u001b[0m\u001b[0;34m]\u001b[0m\u001b[0;34m\u001b[0m\u001b[0;34m\u001b[0m\u001b[0m\n\u001b[0;32m-> 5139\u001b[0;31m             \u001b[0;32mreturn\u001b[0m \u001b[0mobject\u001b[0m\u001b[0;34m.\u001b[0m\u001b[0m__getattribute__\u001b[0m\u001b[0;34m(\u001b[0m\u001b[0mself\u001b[0m\u001b[0;34m,\u001b[0m \u001b[0mname\u001b[0m\u001b[0;34m)\u001b[0m\u001b[0;34m\u001b[0m\u001b[0;34m\u001b[0m\u001b[0m\n\u001b[0m\u001b[1;32m   5140\u001b[0m \u001b[0;34m\u001b[0m\u001b[0m\n\u001b[1;32m   5141\u001b[0m     \u001b[0;32mdef\u001b[0m \u001b[0m__setattr__\u001b[0m\u001b[0;34m(\u001b[0m\u001b[0mself\u001b[0m\u001b[0;34m,\u001b[0m \u001b[0mname\u001b[0m\u001b[0;34m:\u001b[0m \u001b[0mstr\u001b[0m\u001b[0;34m,\u001b[0m \u001b[0mvalue\u001b[0m\u001b[0;34m)\u001b[0m \u001b[0;34m->\u001b[0m \u001b[0;32mNone\u001b[0m\u001b[0;34m:\u001b[0m\u001b[0;34m\u001b[0m\u001b[0;34m\u001b[0m\u001b[0m\n",
      "\u001b[0;31mAttributeError\u001b[0m: 'DataFrame' object has no attribute 'SEX'"
     ]
    }
   ],
   "source": [
    "# Evaluate the Cross Tab\n",
    "pd.crosstab(df.SEX,df.DEFAULT,normalize='index',margins=True)"
   ]
  },
  {
   "cell_type": "markdown",
   "metadata": {},
   "source": [
    "## Correlation"
   ]
  },
  {
   "cell_type": "code",
   "execution_count": 38,
   "metadata": {},
   "outputs": [
    {
     "data": {
      "text/plain": [
       "<AxesSubplot:>"
      ]
     },
     "execution_count": 38,
     "metadata": {},
     "output_type": "execute_result"
    },
    {
     "data": {
      "image/png": "[encoded data removed]",
      "text/plain": [
       "<Figure size 1080x720 with 2 Axes>"
      ]
     },
     "metadata": {},
     "output_type": "display_data"
    }
   ],
   "source": [
    "# Pearson Correlation\n",
    "corrMatrix = df.corr()\n",
    "sns.heatmap(corrMatrix, annot = True, cmap= 'coolwarm')\n",
    "#look for dark red, and dark blue\n",
    "#i.e. savings, income"
   ]
  },
  {
   "cell_type": "code",
   "execution_count": null,
   "metadata": {},
   "outputs": [],
   "source": [
    "# Spearman Correlation\n",
    "sns.set(rc={'figure.figsize':(30,10)})\n",
    "sns.set_context(\"talk\", font_scale=0.7)"
   ]
  },
  {
   "cell_type": "code",
   "execution_count": null,
   "metadata": {},
   "outputs": [],
   "source": [
    "sns.heatmap(df.iloc[:,1:].corr(method='spearman'), cmap='rainbow_r', annot=True)"
   ]
  },
  {
   "cell_type": "code",
   "execution_count": null,
   "metadata": {},
   "outputs": [],
   "source": [
    "# To get the Correlation between your variable of interest and the rest of the variables\n",
    "# - replace \"DEFAULT\" with your variable of interest.\n",
    "df.drop(\"DEFAULT\", axis=1).apply(lambda x: x.corr(df.DEFAULT,method='spearman'))"
   ]
  }
 ],
 "metadata": {
  "kernelspec": {
   "display_name": "Python 3",
   "language": "python",
   "name": "python3"
  },
  "language_info": {
   "codemirror_mode": {
    "name": "ipython",
    "version": 3
   },
   "file_extension": ".py",
   "mimetype": "text/x-python",
   "name": "python",
   "nbconvert_exporter": "python",
   "pygments_lexer": "ipython3",
   "version": "3.8.6"
  }
 },
 "nbformat": 4,
 "nbformat_minor": 5
}
